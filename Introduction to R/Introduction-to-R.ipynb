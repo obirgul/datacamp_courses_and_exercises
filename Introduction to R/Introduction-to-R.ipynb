{
 "cells": [
  {
   "cell_type": "markdown",
   "metadata": {},
   "source": [
    "# Introduction to R"
   ]
  },
  {
   "cell_type": "markdown",
   "metadata": {},
   "source": [
    "## Intro to basics\n"
   ]
  },
  {
   "cell_type": "code",
   "execution_count": 1,
   "metadata": {},
   "outputs": [
    {
     "ename": "ERROR",
     "evalue": "Error in my_apples + my_oranges: non-numeric argument to binary operator\n",
     "output_type": "error",
     "traceback": [
      "Error in my_apples + my_oranges: non-numeric argument to binary operator\nTraceback:\n"
     ]
    }
   ],
   "source": [
    "# Assign a value to the variable my_apples\n",
    "my_apples <- 5 \n",
    "\n",
    "# Fix the assignment of my_oranges\n",
    "my_oranges <- \"six\" \n",
    "\n",
    "# Create the variable my_fruit and print it out\n",
    "my_fruit <- my_apples + my_oranges \n",
    "my_fruit"
   ]
  },
  {
   "cell_type": "code",
   "execution_count": 2,
   "metadata": {},
   "outputs": [
    {
     "data": {
      "text/html": [
       "5"
      ],
      "text/latex": [
       "5"
      ],
      "text/markdown": [
       "5"
      ],
      "text/plain": [
       "[1] 5"
      ]
     },
     "metadata": {},
     "output_type": "display_data"
    }
   ],
   "source": [
    "my_apples"
   ]
  },
  {
   "cell_type": "code",
   "execution_count": 3,
   "metadata": {},
   "outputs": [
    {
     "data": {
      "text/html": [
       "'six'"
      ],
      "text/latex": [
       "'six'"
      ],
      "text/markdown": [
       "'six'"
      ],
      "text/plain": [
       "[1] \"six\""
      ]
     },
     "metadata": {},
     "output_type": "display_data"
    }
   ],
   "source": [
    "my_oranges"
   ]
  },
  {
   "cell_type": "code",
   "execution_count": 8,
   "metadata": {},
   "outputs": [
    {
     "data": {
      "text/html": [
       "11"
      ],
      "text/latex": [
       "11"
      ],
      "text/markdown": [
       "11"
      ],
      "text/plain": [
       "[1] 11"
      ]
     },
     "metadata": {},
     "output_type": "display_data"
    }
   ],
   "source": [
    "# Assign a value to the variable my_apples\n",
    "my_apples <- 5 \n",
    "\n",
    "# Fix the assignment of my_oranges\n",
    "my_oranges <- 6 \n",
    "\n",
    "# Create the variable my_fruit and print it out\n",
    "my_fruit <- my_apples + my_oranges \n",
    "my_fruit"
   ]
  },
  {
   "cell_type": "markdown",
   "metadata": {},
   "source": [
    "### Basic data types in R"
   ]
  },
  {
   "cell_type": "code",
   "execution_count": 9,
   "metadata": {},
   "outputs": [],
   "source": [
    "# Change my_numeric to be 42\n",
    "my_numeric <- 42\n",
    "\n",
    "# Change my_character to be \"universe\"\n",
    "my_character <- 'universe'\n",
    "\n",
    "# Change my_logical to be FALSE\n",
    "my_logical <- FALSE"
   ]
  },
  {
   "cell_type": "markdown",
   "metadata": {},
   "source": [
    "### What's that data type?"
   ]
  },
  {
   "cell_type": "code",
   "execution_count": 10,
   "metadata": {},
   "outputs": [
    {
     "data": {
      "text/html": [
       "'numeric'"
      ],
      "text/latex": [
       "'numeric'"
      ],
      "text/markdown": [
       "'numeric'"
      ],
      "text/plain": [
       "[1] \"numeric\""
      ]
     },
     "metadata": {},
     "output_type": "display_data"
    },
    {
     "data": {
      "text/html": [
       "'character'"
      ],
      "text/latex": [
       "'character'"
      ],
      "text/markdown": [
       "'character'"
      ],
      "text/plain": [
       "[1] \"character\""
      ]
     },
     "metadata": {},
     "output_type": "display_data"
    },
    {
     "data": {
      "text/html": [
       "'logical'"
      ],
      "text/latex": [
       "'logical'"
      ],
      "text/markdown": [
       "'logical'"
      ],
      "text/plain": [
       "[1] \"logical\""
      ]
     },
     "metadata": {},
     "output_type": "display_data"
    }
   ],
   "source": [
    "# Declare variables of different types\n",
    "my_numeric <- 42\n",
    "my_character <- \"universe\"\n",
    "my_logical <- FALSE \n",
    "\n",
    "# Check class of my_numeric\n",
    "class(my_numeric)\n",
    "\n",
    "# Check class of my_character\n",
    "class(my_character)\n",
    "\n",
    "# Check class of my_logical\n",
    "class(my_logical)"
   ]
  },
  {
   "cell_type": "markdown",
   "metadata": {},
   "source": [
    "## Vectors"
   ]
  },
  {
   "cell_type": "code",
   "execution_count": 11,
   "metadata": {},
   "outputs": [],
   "source": [
    "# Define the variable vegas\n",
    "vegas <- \"Go!\""
   ]
  },
  {
   "cell_type": "markdown",
   "metadata": {},
   "source": [
    "### Create a vector"
   ]
  },
  {
   "cell_type": "code",
   "execution_count": 12,
   "metadata": {},
   "outputs": [],
   "source": [
    "numeric_vector <- c(1, 10, 49)\n",
    "character_vector <- c(\"a\", \"b\", \"c\")\n",
    "\n",
    "# Complete the code for boolean_vector\n",
    "boolean_vector <- c(TRUE, FALSE, TRUE)"
   ]
  },
  {
   "cell_type": "code",
   "execution_count": 13,
   "metadata": {},
   "outputs": [
    {
     "data": {
      "text/html": [
       "'logical'"
      ],
      "text/latex": [
       "'logical'"
      ],
      "text/markdown": [
       "'logical'"
      ],
      "text/plain": [
       "[1] \"logical\""
      ]
     },
     "metadata": {},
     "output_type": "display_data"
    }
   ],
   "source": [
    "class(boolean_vector)"
   ]
  },
  {
   "cell_type": "markdown",
   "metadata": {},
   "source": [
    "### Create a vector (2)"
   ]
  },
  {
   "cell_type": "code",
   "execution_count": 14,
   "metadata": {},
   "outputs": [],
   "source": [
    "# Poker winnings from Monday to Friday\n",
    "poker_vector <- c(140, -50, 20, -120, 240)\n",
    "\n",
    "# Roulette winnings from Monday to Friday\n",
    "roulette_vector <-  c(-24, -50, 100, -350, 10)"
   ]
  },
  {
   "cell_type": "markdown",
   "metadata": {},
   "source": [
    "### Naming a vector"
   ]
  },
  {
   "cell_type": "code",
   "execution_count": 15,
   "metadata": {},
   "outputs": [],
   "source": [
    "# Poker winnings from Monday to Friday\n",
    "poker_vector <- c(140, -50, 20, -120, 240)\n",
    "\n",
    "# Roulette winnings from Monday to Friday\n",
    "roulette_vector <- c(-24, -50, 100, -350, 10)\n",
    "\n",
    "# Assign days as names of poker_vector\n",
    "names(poker_vector) <- c(\"Monday\", \"Tuesday\", \"Wednesday\", \"Thursday\", \"Friday\")\n",
    "\n",
    "# Assign days as names of roulette_vector\n",
    "names(roulette_vector) <- c(\"Monday\", \"Tuesday\", \"Wednesday\", \"Thursday\", \"Friday\")"
   ]
  },
  {
   "cell_type": "code",
   "execution_count": 16,
   "metadata": {},
   "outputs": [
    {
     "data": {
      "text/html": [
       "<dl class=dl-horizontal>\n",
       "\t<dt>Monday</dt>\n",
       "\t\t<dd>-24</dd>\n",
       "\t<dt>Tuesday</dt>\n",
       "\t\t<dd>-50</dd>\n",
       "\t<dt>Wednesday</dt>\n",
       "\t\t<dd>100</dd>\n",
       "\t<dt>Thursday</dt>\n",
       "\t\t<dd>-350</dd>\n",
       "\t<dt>Friday</dt>\n",
       "\t\t<dd>10</dd>\n",
       "</dl>\n"
      ],
      "text/latex": [
       "\\begin{description*}\n",
       "\\item[Monday] -24\n",
       "\\item[Tuesday] -50\n",
       "\\item[Wednesday] 100\n",
       "\\item[Thursday] -350\n",
       "\\item[Friday] 10\n",
       "\\end{description*}\n"
      ],
      "text/markdown": [
       "Monday\n",
       ":   -24Tuesday\n",
       ":   -50Wednesday\n",
       ":   100Thursday\n",
       ":   -350Friday\n",
       ":   10\n",
       "\n"
      ],
      "text/plain": [
       "   Monday   Tuesday Wednesday  Thursday    Friday \n",
       "      -24       -50       100      -350        10 "
      ]
     },
     "metadata": {},
     "output_type": "display_data"
    }
   ],
   "source": [
    "roulette_vector"
   ]
  },
  {
   "cell_type": "markdown",
   "metadata": {},
   "source": [
    "### Naming a vector (2)"
   ]
  },
  {
   "cell_type": "code",
   "execution_count": 17,
   "metadata": {},
   "outputs": [],
   "source": [
    "# Poker winnings from Monday to Friday\n",
    "poker_vector <- c(140, -50, 20, -120, 240)\n",
    "\n",
    "# Roulette winnings from Monday to Friday\n",
    "roulette_vector <- c(-24, -50, 100, -350, 10)\n",
    "\n",
    "# The variable days_vector\n",
    "days_vector <- c(\"Monday\", \"Tuesday\", \"Wednesday\", \"Thursday\", \"Friday\")\n",
    " \n",
    "# Assign the names of the day to roulette_vector and poker_vector\n",
    "names(poker_vector) <- days_vector\n",
    "names(roulette_vector) <- days_vector"
   ]
  },
  {
   "cell_type": "code",
   "execution_count": 18,
   "metadata": {},
   "outputs": [
    {
     "data": {
      "text/html": [
       "<dl class=dl-horizontal>\n",
       "\t<dt>Monday</dt>\n",
       "\t\t<dd>140</dd>\n",
       "\t<dt>Tuesday</dt>\n",
       "\t\t<dd>-50</dd>\n",
       "\t<dt>Wednesday</dt>\n",
       "\t\t<dd>20</dd>\n",
       "\t<dt>Thursday</dt>\n",
       "\t\t<dd>-120</dd>\n",
       "\t<dt>Friday</dt>\n",
       "\t\t<dd>240</dd>\n",
       "</dl>\n"
      ],
      "text/latex": [
       "\\begin{description*}\n",
       "\\item[Monday] 140\n",
       "\\item[Tuesday] -50\n",
       "\\item[Wednesday] 20\n",
       "\\item[Thursday] -120\n",
       "\\item[Friday] 240\n",
       "\\end{description*}\n"
      ],
      "text/markdown": [
       "Monday\n",
       ":   140Tuesday\n",
       ":   -50Wednesday\n",
       ":   20Thursday\n",
       ":   -120Friday\n",
       ":   240\n",
       "\n"
      ],
      "text/plain": [
       "   Monday   Tuesday Wednesday  Thursday    Friday \n",
       "      140       -50        20      -120       240 "
      ]
     },
     "metadata": {},
     "output_type": "display_data"
    }
   ],
   "source": [
    "poker_vector"
   ]
  },
  {
   "cell_type": "code",
   "execution_count": 19,
   "metadata": {},
   "outputs": [
    {
     "data": {
      "text/html": [
       "<dl class=dl-horizontal>\n",
       "\t<dt>Monday</dt>\n",
       "\t\t<dd>-24</dd>\n",
       "\t<dt>Tuesday</dt>\n",
       "\t\t<dd>-50</dd>\n",
       "\t<dt>Wednesday</dt>\n",
       "\t\t<dd>100</dd>\n",
       "\t<dt>Thursday</dt>\n",
       "\t\t<dd>-350</dd>\n",
       "\t<dt>Friday</dt>\n",
       "\t\t<dd>10</dd>\n",
       "</dl>\n"
      ],
      "text/latex": [
       "\\begin{description*}\n",
       "\\item[Monday] -24\n",
       "\\item[Tuesday] -50\n",
       "\\item[Wednesday] 100\n",
       "\\item[Thursday] -350\n",
       "\\item[Friday] 10\n",
       "\\end{description*}\n"
      ],
      "text/markdown": [
       "Monday\n",
       ":   -24Tuesday\n",
       ":   -50Wednesday\n",
       ":   100Thursday\n",
       ":   -350Friday\n",
       ":   10\n",
       "\n"
      ],
      "text/plain": [
       "   Monday   Tuesday Wednesday  Thursday    Friday \n",
       "      -24       -50       100      -350        10 "
      ]
     },
     "metadata": {},
     "output_type": "display_data"
    }
   ],
   "source": [
    "roulette_vector"
   ]
  },
  {
   "cell_type": "markdown",
   "metadata": {},
   "source": [
    "### Calculating total winnings"
   ]
  },
  {
   "cell_type": "code",
   "execution_count": 20,
   "metadata": {},
   "outputs": [
    {
     "name": "stdout",
     "output_type": "stream",
     "text": [
      "[1] 5 7 9\n"
     ]
    }
   ],
   "source": [
    "A_vector <- c(1, 2, 3)\n",
    "B_vector <- c(4, 5, 6)\n",
    "\n",
    "# Take the sum of A_vector and B_vector\n",
    "total_vector <- A_vector + B_vector\n",
    "  \n",
    "# Print out total_vector\n",
    "print(total_vector)"
   ]
  },
  {
   "cell_type": "markdown",
   "metadata": {},
   "source": [
    "### Calculating total winnings (2)"
   ]
  },
  {
   "cell_type": "code",
   "execution_count": 21,
   "metadata": {},
   "outputs": [],
   "source": [
    "# Poker and roulette winnings from Monday to Friday:\n",
    "poker_vector <- c(140, -50, 20, -120, 240)\n",
    "roulette_vector <- c(-24, -50, 100, -350, 10)\n",
    "days_vector <- c(\"Monday\", \"Tuesday\", \"Wednesday\", \"Thursday\", \"Friday\")\n",
    "names(poker_vector) <- days_vector\n",
    "names(roulette_vector) <- days_vector\n",
    "\n",
    "# Assign to total_daily how much you won/lost on each day\n",
    "total_daily <- poker_vector + roulette_vector"
   ]
  },
  {
   "cell_type": "code",
   "execution_count": 22,
   "metadata": {},
   "outputs": [
    {
     "data": {
      "text/html": [
       "<dl class=dl-horizontal>\n",
       "\t<dt>Monday</dt>\n",
       "\t\t<dd>116</dd>\n",
       "\t<dt>Tuesday</dt>\n",
       "\t\t<dd>-100</dd>\n",
       "\t<dt>Wednesday</dt>\n",
       "\t\t<dd>120</dd>\n",
       "\t<dt>Thursday</dt>\n",
       "\t\t<dd>-470</dd>\n",
       "\t<dt>Friday</dt>\n",
       "\t\t<dd>250</dd>\n",
       "</dl>\n"
      ],
      "text/latex": [
       "\\begin{description*}\n",
       "\\item[Monday] 116\n",
       "\\item[Tuesday] -100\n",
       "\\item[Wednesday] 120\n",
       "\\item[Thursday] -470\n",
       "\\item[Friday] 250\n",
       "\\end{description*}\n"
      ],
      "text/markdown": [
       "Monday\n",
       ":   116Tuesday\n",
       ":   -100Wednesday\n",
       ":   120Thursday\n",
       ":   -470Friday\n",
       ":   250\n",
       "\n"
      ],
      "text/plain": [
       "   Monday   Tuesday Wednesday  Thursday    Friday \n",
       "      116      -100       120      -470       250 "
      ]
     },
     "metadata": {},
     "output_type": "display_data"
    }
   ],
   "source": [
    "total_daily"
   ]
  },
  {
   "cell_type": "markdown",
   "metadata": {},
   "source": [
    "### Calculating total winnings (3)"
   ]
  },
  {
   "cell_type": "code",
   "execution_count": 23,
   "metadata": {},
   "outputs": [
    {
     "name": "stdout",
     "output_type": "stream",
     "text": [
      "[1] -84\n"
     ]
    }
   ],
   "source": [
    "# Poker and roulette winnings from Monday to Friday:\n",
    "poker_vector <- c(140, -50, 20, -120, 240)\n",
    "roulette_vector <- c(-24, -50, 100, -350, 10)\n",
    "days_vector <- c(\"Monday\", \"Tuesday\", \"Wednesday\", \"Thursday\", \"Friday\")\n",
    "names(poker_vector) <- days_vector\n",
    "names(roulette_vector) <- days_vector\n",
    "\n",
    "# Total winnings with poker\n",
    "total_poker <- sum(poker_vector)\n",
    "\n",
    "# Total winnings with roulette\n",
    "total_roulette <- sum(roulette_vector) \n",
    "\n",
    "# Total winnings overall\n",
    "total_week <- total_poker + total_roulette\n",
    "\n",
    "# Print out total_week\n",
    "print(total_week)"
   ]
  },
  {
   "cell_type": "markdown",
   "metadata": {},
   "source": [
    "### Comparing total winnings"
   ]
  },
  {
   "cell_type": "code",
   "execution_count": 24,
   "metadata": {},
   "outputs": [
    {
     "name": "stdout",
     "output_type": "stream",
     "text": [
      "[1] TRUE\n"
     ]
    }
   ],
   "source": [
    "# Poker and roulette winnings from Monday to Friday:\n",
    "poker_vector <- c(140, -50, 20, -120, 240)\n",
    "roulette_vector <- c(-24, -50, 100, -350, 10)\n",
    "days_vector <- c(\"Monday\", \"Tuesday\", \"Wednesday\", \"Thursday\", \"Friday\")\n",
    "names(poker_vector) <- days_vector\n",
    "names(roulette_vector) <- days_vector\n",
    "\n",
    "# Calculate total gains for poker and roulette\n",
    "total_poker <- sum(poker_vector)\n",
    "total_roulette <- sum(roulette_vector)\n",
    "\n",
    "# Check if you realized higher total gains in poker than in roulette \n",
    "print(total_poker > total_roulette)"
   ]
  },
  {
   "cell_type": "markdown",
   "metadata": {},
   "source": [
    "### Vector selection: the good times"
   ]
  },
  {
   "cell_type": "code",
   "execution_count": 25,
   "metadata": {},
   "outputs": [],
   "source": [
    "# Poker and roulette winnings from Monday to Friday:\n",
    "poker_vector <- c(140, -50, 20, -120, 240)\n",
    "roulette_vector <- c(-24, -50, 100, -350, 10)\n",
    "days_vector <- c(\"Monday\", \"Tuesday\", \"Wednesday\", \"Thursday\", \"Friday\")\n",
    "names(poker_vector) <- days_vector\n",
    "names(roulette_vector) <- days_vector\n",
    "\n",
    "# Define a new variable based on a selection\n",
    "poker_wednesday <- poker_vector[3] # 3rd element !!"
   ]
  },
  {
   "cell_type": "markdown",
   "metadata": {},
   "source": [
    "### Vector selection: the good times (2)"
   ]
  },
  {
   "cell_type": "code",
   "execution_count": 26,
   "metadata": {},
   "outputs": [],
   "source": [
    "# Poker and roulette winnings from Monday to Friday:\n",
    "poker_vector <- c(140, -50, 20, -120, 240)\n",
    "roulette_vector <- c(-24, -50, 100, -350, 10)\n",
    "days_vector <- c(\"Monday\", \"Tuesday\", \"Wednesday\", \"Thursday\", \"Friday\")\n",
    "names(poker_vector) <- days_vector\n",
    "names(roulette_vector) <- days_vector\n",
    "\n",
    "# Define a new variable based on a selection\n",
    "# select the poker results of Tuesday, Wednesday and Thursday\n",
    "poker_midweek <- poker_vector[c(2,3,4)]"
   ]
  },
  {
   "cell_type": "markdown",
   "metadata": {},
   "source": [
    "### Vector selection: the good times (3)"
   ]
  },
  {
   "cell_type": "code",
   "execution_count": 27,
   "metadata": {},
   "outputs": [],
   "source": [
    "# Poker and roulette winnings from Monday to Friday:\n",
    "poker_vector <- c(140, -50, 20, -120, 240)\n",
    "roulette_vector <- c(-24, -50, 100, -350, 10)\n",
    "days_vector <- c(\"Monday\", \"Tuesday\", \"Wednesday\", \"Thursday\", \"Friday\")\n",
    "names(poker_vector) <- days_vector\n",
    "names(roulette_vector) <- days_vector\n",
    "\n",
    "# Define a new variable based on a selection\n",
    "roulette_selection_vector <- roulette_vector[2:5]"
   ]
  },
  {
   "cell_type": "code",
   "execution_count": 28,
   "metadata": {},
   "outputs": [
    {
     "data": {
      "text/html": [
       "<dl class=dl-horizontal>\n",
       "\t<dt>Tuesday</dt>\n",
       "\t\t<dd>-50</dd>\n",
       "\t<dt>Wednesday</dt>\n",
       "\t\t<dd>100</dd>\n",
       "\t<dt>Thursday</dt>\n",
       "\t\t<dd>-350</dd>\n",
       "\t<dt>Friday</dt>\n",
       "\t\t<dd>10</dd>\n",
       "</dl>\n"
      ],
      "text/latex": [
       "\\begin{description*}\n",
       "\\item[Tuesday] -50\n",
       "\\item[Wednesday] 100\n",
       "\\item[Thursday] -350\n",
       "\\item[Friday] 10\n",
       "\\end{description*}\n"
      ],
      "text/markdown": [
       "Tuesday\n",
       ":   -50Wednesday\n",
       ":   100Thursday\n",
       ":   -350Friday\n",
       ":   10\n",
       "\n"
      ],
      "text/plain": [
       "  Tuesday Wednesday  Thursday    Friday \n",
       "      -50       100      -350        10 "
      ]
     },
     "metadata": {},
     "output_type": "display_data"
    }
   ],
   "source": [
    "roulette_selection_vector"
   ]
  },
  {
   "cell_type": "markdown",
   "metadata": {},
   "source": [
    "### Vector selection: the good times (4)"
   ]
  },
  {
   "cell_type": "code",
   "execution_count": 29,
   "metadata": {},
   "outputs": [
    {
     "name": "stdout",
     "output_type": "stream",
     "text": [
      "[1] 36.66667\n"
     ]
    }
   ],
   "source": [
    "# Poker and roulette winnings from Monday to Friday:\n",
    "poker_vector <- c(140, -50, 20, -120, 240)\n",
    "roulette_vector <- c(-24, -50, 100, -350, 10)\n",
    "days_vector <- c(\"Monday\", \"Tuesday\", \"Wednesday\", \"Thursday\", \"Friday\")\n",
    "names(poker_vector) <- days_vector\n",
    "names(roulette_vector) <- days_vector\n",
    "\n",
    "# Select poker results for Monday, Tuesday and Wednesday\n",
    "poker_start <- poker_vector[c(\"Monday\", \"Tuesday\", \"Wednesday\")]\n",
    "  \n",
    "# Calculate the average of the elements in poker_start\n",
    "print(mean(poker_start))"
   ]
  },
  {
   "cell_type": "markdown",
   "metadata": {},
   "source": [
    "### Selection by comparison - Step 1"
   ]
  },
  {
   "cell_type": "code",
   "execution_count": 30,
   "metadata": {},
   "outputs": [
    {
     "name": "stdout",
     "output_type": "stream",
     "text": [
      "   Monday   Tuesday Wednesday  Thursday    Friday \n",
      "     TRUE     FALSE      TRUE     FALSE      TRUE \n"
     ]
    }
   ],
   "source": [
    "# Poker and roulette winnings from Monday to Friday:\n",
    "poker_vector <- c(140, -50, 20, -120, 240)\n",
    "roulette_vector <- c(-24, -50, 100, -350, 10)\n",
    "days_vector <- c(\"Monday\", \"Tuesday\", \"Wednesday\", \"Thursday\", \"Friday\")\n",
    "names(poker_vector) <- days_vector\n",
    "names(roulette_vector) <- days_vector\n",
    "\n",
    "# Which days did you make money on poker?\n",
    "selection_vector <- poker_vector > 0\n",
    "  \n",
    "# Print out selection_vector\n",
    "print(selection_vector)"
   ]
  },
  {
   "cell_type": "markdown",
   "metadata": {},
   "source": [
    "### Selection by comparison - Step 2"
   ]
  },
  {
   "cell_type": "code",
   "execution_count": 31,
   "metadata": {},
   "outputs": [],
   "source": [
    "# Poker and roulette winnings from Monday to Friday:\n",
    "poker_vector <- c(140, -50, 20, -120, 240)\n",
    "roulette_vector <- c(-24, -50, 100, -350, 10)\n",
    "days_vector <- c(\"Monday\", \"Tuesday\", \"Wednesday\", \"Thursday\", \"Friday\")\n",
    "names(poker_vector) <- days_vector\n",
    "names(roulette_vector) <- days_vector\n",
    "\n",
    "# Which days did you make money on poker?\n",
    "selection_vector <- poker_vector > 0\n",
    "\n",
    "# Select from poker_vector these days\n",
    "poker_winning_days <- poker_vector[selection_vector]"
   ]
  },
  {
   "cell_type": "markdown",
   "metadata": {},
   "source": [
    "### Advanced selection"
   ]
  },
  {
   "cell_type": "code",
   "execution_count": 32,
   "metadata": {},
   "outputs": [],
   "source": [
    "# Poker and roulette winnings from Monday to Friday:\n",
    "poker_vector <- c(140, -50, 20, -120, 240)\n",
    "roulette_vector <- c(-24, -50, 100, -350, 10)\n",
    "days_vector <- c(\"Monday\", \"Tuesday\", \"Wednesday\", \"Thursday\", \"Friday\")\n",
    "names(poker_vector) <- days_vector\n",
    "names(roulette_vector) <- days_vector\n",
    "\n",
    "# Which days did you make money on roulette?\n",
    "selection_vector <- roulette_vector > 0\n",
    "\n",
    "# Select from roulette_vector these days\n",
    "roulette_winning_days <- roulette_vector[selection_vector]"
   ]
  },
  {
   "cell_type": "code",
   "execution_count": 33,
   "metadata": {},
   "outputs": [
    {
     "data": {
      "text/html": [
       "<dl class=dl-horizontal>\n",
       "\t<dt>Wednesday</dt>\n",
       "\t\t<dd>100</dd>\n",
       "\t<dt>Friday</dt>\n",
       "\t\t<dd>10</dd>\n",
       "</dl>\n"
      ],
      "text/latex": [
       "\\begin{description*}\n",
       "\\item[Wednesday] 100\n",
       "\\item[Friday] 10\n",
       "\\end{description*}\n"
      ],
      "text/markdown": [
       "Wednesday\n",
       ":   100Friday\n",
       ":   10\n",
       "\n"
      ],
      "text/plain": [
       "Wednesday    Friday \n",
       "      100        10 "
      ]
     },
     "metadata": {},
     "output_type": "display_data"
    }
   ],
   "source": [
    "roulette_winning_days"
   ]
  },
  {
   "cell_type": "markdown",
   "metadata": {},
   "source": [
    "## Matrices"
   ]
  },
  {
   "cell_type": "markdown",
   "metadata": {},
   "source": [
    "### What's a matrix?"
   ]
  },
  {
   "cell_type": "code",
   "execution_count": 34,
   "metadata": {},
   "outputs": [
    {
     "data": {
      "text/html": [
       "<table>\n",
       "<tbody>\n",
       "\t<tr><td>1</td><td>2</td><td>3</td></tr>\n",
       "\t<tr><td>4</td><td>5</td><td>6</td></tr>\n",
       "\t<tr><td>7</td><td>8</td><td>9</td></tr>\n",
       "</tbody>\n",
       "</table>\n"
      ],
      "text/latex": [
       "\\begin{tabular}{lll}\n",
       "\t 1 & 2 & 3\\\\\n",
       "\t 4 & 5 & 6\\\\\n",
       "\t 7 & 8 & 9\\\\\n",
       "\\end{tabular}\n"
      ],
      "text/markdown": [
       "\n",
       "| 1 | 2 | 3 | \n",
       "| 4 | 5 | 6 | \n",
       "| 7 | 8 | 9 | \n",
       "\n",
       "\n"
      ],
      "text/plain": [
       "     [,1] [,2] [,3]\n",
       "[1,] 1    2    3   \n",
       "[2,] 4    5    6   \n",
       "[3,] 7    8    9   "
      ]
     },
     "metadata": {},
     "output_type": "display_data"
    }
   ],
   "source": [
    "# Construct a matrix with 3 rows that contain the numbers 1 up to 9\n",
    "matrix(1:9, byrow=TRUE, nrow = 3)"
   ]
  },
  {
   "cell_type": "code",
   "execution_count": 35,
   "metadata": {},
   "outputs": [
    {
     "data": {
      "text/html": [
       "<table>\n",
       "<tbody>\n",
       "\t<tr><td>1</td><td>4</td><td>7</td></tr>\n",
       "\t<tr><td>2</td><td>5</td><td>8</td></tr>\n",
       "\t<tr><td>3</td><td>6</td><td>9</td></tr>\n",
       "</tbody>\n",
       "</table>\n"
      ],
      "text/latex": [
       "\\begin{tabular}{lll}\n",
       "\t 1 & 4 & 7\\\\\n",
       "\t 2 & 5 & 8\\\\\n",
       "\t 3 & 6 & 9\\\\\n",
       "\\end{tabular}\n"
      ],
      "text/markdown": [
       "\n",
       "| 1 | 4 | 7 | \n",
       "| 2 | 5 | 8 | \n",
       "| 3 | 6 | 9 | \n",
       "\n",
       "\n"
      ],
      "text/plain": [
       "     [,1] [,2] [,3]\n",
       "[1,] 1    4    7   \n",
       "[2,] 2    5    8   \n",
       "[3,] 3    6    9   "
      ]
     },
     "metadata": {},
     "output_type": "display_data"
    }
   ],
   "source": [
    "matrix(1:9, byrow=FALSE, nrow = 3)"
   ]
  },
  {
   "cell_type": "markdown",
   "metadata": {},
   "source": [
    "### Analyze matrices, you shall"
   ]
  },
  {
   "cell_type": "code",
   "execution_count": 36,
   "metadata": {},
   "outputs": [
    {
     "data": {
      "text/html": [
       "<table>\n",
       "<tbody>\n",
       "\t<tr><td>460.998</td><td>314.4  </td></tr>\n",
       "\t<tr><td>290.475</td><td>247.9  </td></tr>\n",
       "\t<tr><td>309.306</td><td>165.8  </td></tr>\n",
       "</tbody>\n",
       "</table>\n"
      ],
      "text/latex": [
       "\\begin{tabular}{ll}\n",
       "\t 460.998 & 314.4  \\\\\n",
       "\t 290.475 & 247.9  \\\\\n",
       "\t 309.306 & 165.8  \\\\\n",
       "\\end{tabular}\n"
      ],
      "text/markdown": [
       "\n",
       "| 460.998 | 314.4   | \n",
       "| 290.475 | 247.9   | \n",
       "| 309.306 | 165.8   | \n",
       "\n",
       "\n"
      ],
      "text/plain": [
       "     [,1]    [,2] \n",
       "[1,] 460.998 314.4\n",
       "[2,] 290.475 247.9\n",
       "[3,] 309.306 165.8"
      ]
     },
     "metadata": {},
     "output_type": "display_data"
    }
   ],
   "source": [
    "# Box office Star Wars (in millions!)\n",
    "new_hope <- c(460.998, 314.4)\n",
    "empire_strikes <- c(290.475, 247.900)\n",
    "return_jedi <- c(309.306, 165.8)\n",
    "\n",
    "# Create box_office\n",
    "box_office <- c(new_hope, empire_strikes, return_jedi)\n",
    "\n",
    "# Construct star_wars_matrix\n",
    "star_wars_matrix <- matrix(box_office, byrow=TRUE, nrow=3)\n",
    "star_wars_matrix"
   ]
  },
  {
   "cell_type": "markdown",
   "metadata": {},
   "source": [
    "### Naming a matrix"
   ]
  },
  {
   "cell_type": "code",
   "execution_count": 37,
   "metadata": {},
   "outputs": [
    {
     "name": "stdout",
     "output_type": "stream",
     "text": [
      "                             US non-US\n",
      "A New Hope              460.998  314.4\n",
      "The Empire Strikes Back 290.475  247.9\n",
      "Return of the Jedi      309.306  165.8\n"
     ]
    }
   ],
   "source": [
    "# Box office Star Wars (in millions!)\n",
    "new_hope <- c(460.998, 314.4)\n",
    "empire_strikes <- c(290.475, 247.900)\n",
    "return_jedi <- c(309.306, 165.8)\n",
    "\n",
    "# Construct matrix\n",
    "star_wars_matrix <- matrix(c(new_hope, empire_strikes, return_jedi), nrow = 3, byrow = TRUE)\n",
    "\n",
    "# Vectors region and titles, used for naming\n",
    "region <- c(\"US\", \"non-US\")\n",
    "titles <- c(\"A New Hope\", \"The Empire Strikes Back\", \"Return of the Jedi\")\n",
    "\n",
    "# Name the columns with region\n",
    "colnames(star_wars_matrix) <- region\n",
    "\n",
    "# Name the rows with titles\n",
    "rownames(star_wars_matrix) <- titles\n",
    "\n",
    "# Print out star_wars_matrix\n",
    "print(star_wars_matrix)"
   ]
  },
  {
   "cell_type": "markdown",
   "metadata": {},
   "source": [
    "### Calculating the worldwide box office"
   ]
  },
  {
   "cell_type": "code",
   "execution_count": 38,
   "metadata": {},
   "outputs": [],
   "source": [
    "# Construct star_wars_matrix\n",
    "box_office <- c(460.998, 314.4, 290.475, 247.900, 309.306, 165.8)\n",
    "star_wars_matrix <- matrix(box_office, nrow = 3, byrow = TRUE,\n",
    "                  dimnames = \n",
    "                  list(c(\"A New Hope\", \"The Empire Strikes Back\", \"Return of the Jedi\"), \n",
    "                  c(\"US\", \"non-US\")))\n",
    "\n",
    "# Calculate worldwide box office figures\n",
    "worldwide_vector <- rowSums(star_wars_matrix)"
   ]
  },
  {
   "cell_type": "code",
   "execution_count": 39,
   "metadata": {},
   "outputs": [
    {
     "data": {
      "text/html": [
       "<dl class=dl-horizontal>\n",
       "\t<dt>A New Hope</dt>\n",
       "\t\t<dd>775.398</dd>\n",
       "\t<dt>The Empire Strikes Back</dt>\n",
       "\t\t<dd>538.375</dd>\n",
       "\t<dt>Return of the Jedi</dt>\n",
       "\t\t<dd>475.106</dd>\n",
       "</dl>\n"
      ],
      "text/latex": [
       "\\begin{description*}\n",
       "\\item[A New Hope] 775.398\n",
       "\\item[The Empire Strikes Back] 538.375\n",
       "\\item[Return of the Jedi] 475.106\n",
       "\\end{description*}\n"
      ],
      "text/markdown": [
       "A New Hope\n",
       ":   775.398The Empire Strikes Back\n",
       ":   538.375Return of the Jedi\n",
       ":   475.106\n",
       "\n"
      ],
      "text/plain": [
       "             A New Hope The Empire Strikes Back      Return of the Jedi \n",
       "                775.398                 538.375                 475.106 "
      ]
     },
     "metadata": {},
     "output_type": "display_data"
    }
   ],
   "source": [
    "worldwide_vector"
   ]
  },
  {
   "cell_type": "code",
   "execution_count": 40,
   "metadata": {},
   "outputs": [
    {
     "data": {
      "text/html": [
       "<table>\n",
       "<thead><tr><th></th><th scope=col>US</th><th scope=col>non-US</th></tr></thead>\n",
       "<tbody>\n",
       "\t<tr><th scope=row>A New Hope</th><td>460.998</td><td>314.4  </td></tr>\n",
       "\t<tr><th scope=row>The Empire Strikes Back</th><td>290.475</td><td>247.9  </td></tr>\n",
       "\t<tr><th scope=row>Return of the Jedi</th><td>309.306</td><td>165.8  </td></tr>\n",
       "</tbody>\n",
       "</table>\n"
      ],
      "text/latex": [
       "\\begin{tabular}{r|ll}\n",
       "  & US & non-US\\\\\n",
       "\\hline\n",
       "\tA New Hope & 460.998 & 314.4  \\\\\n",
       "\tThe Empire Strikes Back & 290.475 & 247.9  \\\\\n",
       "\tReturn of the Jedi & 309.306 & 165.8  \\\\\n",
       "\\end{tabular}\n"
      ],
      "text/markdown": [
       "\n",
       "| <!--/--> | US | non-US | \n",
       "|---|---|---|\n",
       "| A New Hope | 460.998 | 314.4   | \n",
       "| The Empire Strikes Back | 290.475 | 247.9   | \n",
       "| Return of the Jedi | 309.306 | 165.8   | \n",
       "\n",
       "\n"
      ],
      "text/plain": [
       "                        US      non-US\n",
       "A New Hope              460.998 314.4 \n",
       "The Empire Strikes Back 290.475 247.9 \n",
       "Return of the Jedi      309.306 165.8 "
      ]
     },
     "metadata": {},
     "output_type": "display_data"
    }
   ],
   "source": [
    "star_wars_matrix"
   ]
  },
  {
   "cell_type": "markdown",
   "metadata": {},
   "source": [
    "### Adding a column for the Worldwide box office"
   ]
  },
  {
   "cell_type": "code",
   "execution_count": 41,
   "metadata": {},
   "outputs": [],
   "source": [
    "# Construct star_wars_matrix\n",
    "box_office <- c(460.998, 314.4, 290.475, 247.900, 309.306, 165.8)\n",
    "star_wars_matrix <- matrix(box_office, nrow = 3, byrow = TRUE,\n",
    "                           dimnames = list(c(\"A New Hope\", \"The Empire Strikes Back\", \"Return of the Jedi\"), c(\"US\", \"non-US\")))\n",
    "\n",
    "# The worldwide box office figures\n",
    "worldwide_vector <- rowSums(star_wars_matrix)\n",
    "\n",
    "# Bind the new variable worldwide_vector as a column to star_wars_matrix\n",
    "all_wars_matrix <- cbind(star_wars_matrix, worldwide_vector)"
   ]
  },
  {
   "cell_type": "code",
   "execution_count": 42,
   "metadata": {},
   "outputs": [
    {
     "data": {
      "text/html": [
       "<table>\n",
       "<thead><tr><th></th><th scope=col>US</th><th scope=col>non-US</th><th scope=col>worldwide_vector</th></tr></thead>\n",
       "<tbody>\n",
       "\t<tr><th scope=row>A New Hope</th><td>460.998</td><td>314.4  </td><td>775.398</td></tr>\n",
       "\t<tr><th scope=row>The Empire Strikes Back</th><td>290.475</td><td>247.9  </td><td>538.375</td></tr>\n",
       "\t<tr><th scope=row>Return of the Jedi</th><td>309.306</td><td>165.8  </td><td>475.106</td></tr>\n",
       "</tbody>\n",
       "</table>\n"
      ],
      "text/latex": [
       "\\begin{tabular}{r|lll}\n",
       "  & US & non-US & worldwide\\_vector\\\\\n",
       "\\hline\n",
       "\tA New Hope & 460.998 & 314.4   & 775.398\\\\\n",
       "\tThe Empire Strikes Back & 290.475 & 247.9   & 538.375\\\\\n",
       "\tReturn of the Jedi & 309.306 & 165.8   & 475.106\\\\\n",
       "\\end{tabular}\n"
      ],
      "text/markdown": [
       "\n",
       "| <!--/--> | US | non-US | worldwide_vector | \n",
       "|---|---|---|\n",
       "| A New Hope | 460.998 | 314.4   | 775.398 | \n",
       "| The Empire Strikes Back | 290.475 | 247.9   | 538.375 | \n",
       "| Return of the Jedi | 309.306 | 165.8   | 475.106 | \n",
       "\n",
       "\n"
      ],
      "text/plain": [
       "                        US      non-US worldwide_vector\n",
       "A New Hope              460.998 314.4  775.398         \n",
       "The Empire Strikes Back 290.475 247.9  538.375         \n",
       "Return of the Jedi      309.306 165.8  475.106         "
      ]
     },
     "metadata": {},
     "output_type": "display_data"
    }
   ],
   "source": [
    "all_wars_matrix"
   ]
  },
  {
   "cell_type": "markdown",
   "metadata": {},
   "source": [
    "### Adding a row"
   ]
  },
  {
   "cell_type": "code",
   "execution_count": 44,
   "metadata": {},
   "outputs": [],
   "source": [
    "star_wars_matrix2 <- matrix(c(474.5, 552.5, 310.7, 338.7, 380.3, 468.5), nrow = 3, byrow = TRUE,\n",
    "                           dimnames = list(c(\"The Phantom Menace\", \"Attack of the Clones\", \"Revenge of the Sith\"), \n",
    "                                           c(\"US\", \"non-US\")))"
   ]
  },
  {
   "cell_type": "code",
   "execution_count": 45,
   "metadata": {},
   "outputs": [
    {
     "data": {
      "text/html": [
       "<table>\n",
       "<thead><tr><th></th><th scope=col>US</th><th scope=col>non-US</th></tr></thead>\n",
       "<tbody>\n",
       "\t<tr><th scope=row>A New Hope</th><td>460.998</td><td>314.4  </td></tr>\n",
       "\t<tr><th scope=row>The Empire Strikes Back</th><td>290.475</td><td>247.9  </td></tr>\n",
       "\t<tr><th scope=row>Return of the Jedi</th><td>309.306</td><td>165.8  </td></tr>\n",
       "</tbody>\n",
       "</table>\n"
      ],
      "text/latex": [
       "\\begin{tabular}{r|ll}\n",
       "  & US & non-US\\\\\n",
       "\\hline\n",
       "\tA New Hope & 460.998 & 314.4  \\\\\n",
       "\tThe Empire Strikes Back & 290.475 & 247.9  \\\\\n",
       "\tReturn of the Jedi & 309.306 & 165.8  \\\\\n",
       "\\end{tabular}\n"
      ],
      "text/markdown": [
       "\n",
       "| <!--/--> | US | non-US | \n",
       "|---|---|---|\n",
       "| A New Hope | 460.998 | 314.4   | \n",
       "| The Empire Strikes Back | 290.475 | 247.9   | \n",
       "| Return of the Jedi | 309.306 | 165.8   | \n",
       "\n",
       "\n"
      ],
      "text/plain": [
       "                        US      non-US\n",
       "A New Hope              460.998 314.4 \n",
       "The Empire Strikes Back 290.475 247.9 \n",
       "Return of the Jedi      309.306 165.8 "
      ]
     },
     "metadata": {},
     "output_type": "display_data"
    },
    {
     "data": {
      "text/html": [
       "<table>\n",
       "<thead><tr><th></th><th scope=col>US</th><th scope=col>non-US</th></tr></thead>\n",
       "<tbody>\n",
       "\t<tr><th scope=row>The Phantom Menace</th><td>474.5</td><td>552.5</td></tr>\n",
       "\t<tr><th scope=row>Attack of the Clones</th><td>310.7</td><td>338.7</td></tr>\n",
       "\t<tr><th scope=row>Revenge of the Sith</th><td>380.3</td><td>468.5</td></tr>\n",
       "</tbody>\n",
       "</table>\n"
      ],
      "text/latex": [
       "\\begin{tabular}{r|ll}\n",
       "  & US & non-US\\\\\n",
       "\\hline\n",
       "\tThe Phantom Menace & 474.5 & 552.5\\\\\n",
       "\tAttack of the Clones & 310.7 & 338.7\\\\\n",
       "\tRevenge of the Sith & 380.3 & 468.5\\\\\n",
       "\\end{tabular}\n"
      ],
      "text/markdown": [
       "\n",
       "| <!--/--> | US | non-US | \n",
       "|---|---|---|\n",
       "| The Phantom Menace | 474.5 | 552.5 | \n",
       "| Attack of the Clones | 310.7 | 338.7 | \n",
       "| Revenge of the Sith | 380.3 | 468.5 | \n",
       "\n",
       "\n"
      ],
      "text/plain": [
       "                     US    non-US\n",
       "The Phantom Menace   474.5 552.5 \n",
       "Attack of the Clones 310.7 338.7 \n",
       "Revenge of the Sith  380.3 468.5 "
      ]
     },
     "metadata": {},
     "output_type": "display_data"
    },
    {
     "data": {
      "text/html": [
       "<table>\n",
       "<thead><tr><th></th><th scope=col>US</th><th scope=col>non-US</th></tr></thead>\n",
       "<tbody>\n",
       "\t<tr><th scope=row>A New Hope</th><td>460.998</td><td>314.4  </td></tr>\n",
       "\t<tr><th scope=row>The Empire Strikes Back</th><td>290.475</td><td>247.9  </td></tr>\n",
       "\t<tr><th scope=row>Return of the Jedi</th><td>309.306</td><td>165.8  </td></tr>\n",
       "\t<tr><th scope=row>The Phantom Menace</th><td>474.500</td><td>552.5  </td></tr>\n",
       "\t<tr><th scope=row>Attack of the Clones</th><td>310.700</td><td>338.7  </td></tr>\n",
       "\t<tr><th scope=row>Revenge of the Sith</th><td>380.300</td><td>468.5  </td></tr>\n",
       "</tbody>\n",
       "</table>\n"
      ],
      "text/latex": [
       "\\begin{tabular}{r|ll}\n",
       "  & US & non-US\\\\\n",
       "\\hline\n",
       "\tA New Hope & 460.998 & 314.4  \\\\\n",
       "\tThe Empire Strikes Back & 290.475 & 247.9  \\\\\n",
       "\tReturn of the Jedi & 309.306 & 165.8  \\\\\n",
       "\tThe Phantom Menace & 474.500 & 552.5  \\\\\n",
       "\tAttack of the Clones & 310.700 & 338.7  \\\\\n",
       "\tRevenge of the Sith & 380.300 & 468.5  \\\\\n",
       "\\end{tabular}\n"
      ],
      "text/markdown": [
       "\n",
       "| <!--/--> | US | non-US | \n",
       "|---|---|---|---|---|---|\n",
       "| A New Hope | 460.998 | 314.4   | \n",
       "| The Empire Strikes Back | 290.475 | 247.9   | \n",
       "| Return of the Jedi | 309.306 | 165.8   | \n",
       "| The Phantom Menace | 474.500 | 552.5   | \n",
       "| Attack of the Clones | 310.700 | 338.7   | \n",
       "| Revenge of the Sith | 380.300 | 468.5   | \n",
       "\n",
       "\n"
      ],
      "text/plain": [
       "                        US      non-US\n",
       "A New Hope              460.998 314.4 \n",
       "The Empire Strikes Back 290.475 247.9 \n",
       "Return of the Jedi      309.306 165.8 \n",
       "The Phantom Menace      474.500 552.5 \n",
       "Attack of the Clones    310.700 338.7 \n",
       "Revenge of the Sith     380.300 468.5 "
      ]
     },
     "metadata": {},
     "output_type": "display_data"
    }
   ],
   "source": [
    "# star_wars_matrix and star_wars_matrix2 are available in your workspace\n",
    "star_wars_matrix  \n",
    "star_wars_matrix2 \n",
    "\n",
    "# Combine both Star Wars trilogies in one matrix\n",
    "all_wars_matrix <- rbind(star_wars_matrix, star_wars_matrix2)\n",
    "all_wars_matrix"
   ]
  },
  {
   "cell_type": "markdown",
   "metadata": {},
   "source": [
    "### The total box office revenue for the entire saga"
   ]
  },
  {
   "cell_type": "code",
   "execution_count": 46,
   "metadata": {},
   "outputs": [
    {
     "data": {
      "text/html": [
       "<table>\n",
       "<thead><tr><th></th><th scope=col>US</th><th scope=col>non-US</th></tr></thead>\n",
       "<tbody>\n",
       "\t<tr><th scope=row>A New Hope</th><td>460.998</td><td>314.4  </td></tr>\n",
       "\t<tr><th scope=row>The Empire Strikes Back</th><td>290.475</td><td>247.9  </td></tr>\n",
       "\t<tr><th scope=row>Return of the Jedi</th><td>309.306</td><td>165.8  </td></tr>\n",
       "\t<tr><th scope=row>The Phantom Menace</th><td>474.500</td><td>552.5  </td></tr>\n",
       "\t<tr><th scope=row>Attack of the Clones</th><td>310.700</td><td>338.7  </td></tr>\n",
       "\t<tr><th scope=row>Revenge of the Sith</th><td>380.300</td><td>468.5  </td></tr>\n",
       "</tbody>\n",
       "</table>\n"
      ],
      "text/latex": [
       "\\begin{tabular}{r|ll}\n",
       "  & US & non-US\\\\\n",
       "\\hline\n",
       "\tA New Hope & 460.998 & 314.4  \\\\\n",
       "\tThe Empire Strikes Back & 290.475 & 247.9  \\\\\n",
       "\tReturn of the Jedi & 309.306 & 165.8  \\\\\n",
       "\tThe Phantom Menace & 474.500 & 552.5  \\\\\n",
       "\tAttack of the Clones & 310.700 & 338.7  \\\\\n",
       "\tRevenge of the Sith & 380.300 & 468.5  \\\\\n",
       "\\end{tabular}\n"
      ],
      "text/markdown": [
       "\n",
       "| <!--/--> | US | non-US | \n",
       "|---|---|---|---|---|---|\n",
       "| A New Hope | 460.998 | 314.4   | \n",
       "| The Empire Strikes Back | 290.475 | 247.9   | \n",
       "| Return of the Jedi | 309.306 | 165.8   | \n",
       "| The Phantom Menace | 474.500 | 552.5   | \n",
       "| Attack of the Clones | 310.700 | 338.7   | \n",
       "| Revenge of the Sith | 380.300 | 468.5   | \n",
       "\n",
       "\n"
      ],
      "text/plain": [
       "                        US      non-US\n",
       "A New Hope              460.998 314.4 \n",
       "The Empire Strikes Back 290.475 247.9 \n",
       "Return of the Jedi      309.306 165.8 \n",
       "The Phantom Menace      474.500 552.5 \n",
       "Attack of the Clones    310.700 338.7 \n",
       "Revenge of the Sith     380.300 468.5 "
      ]
     },
     "metadata": {},
     "output_type": "display_data"
    },
    {
     "name": "stdout",
     "output_type": "stream",
     "text": [
      "      US   non-US \n",
      "2226.279 2087.800 \n"
     ]
    }
   ],
   "source": [
    "# all_wars_matrix is available in your workspace\n",
    "all_wars_matrix\n",
    "\n",
    "# Total revenue for US and non-US\n",
    "total_revenue_vector <- colSums(all_wars_matrix)\n",
    "  \n",
    "# Print out total_revenue_vector\n",
    "print(total_revenue_vector)"
   ]
  },
  {
   "cell_type": "markdown",
   "metadata": {},
   "source": [
    "### Selection of matrix elements"
   ]
  },
  {
   "cell_type": "code",
   "execution_count": 47,
   "metadata": {},
   "outputs": [
    {
     "data": {
      "text/html": [
       "<table>\n",
       "<thead><tr><th></th><th scope=col>US</th><th scope=col>non-US</th></tr></thead>\n",
       "<tbody>\n",
       "\t<tr><th scope=row>A New Hope</th><td>460.998</td><td>314.4  </td></tr>\n",
       "\t<tr><th scope=row>The Empire Strikes Back</th><td>290.475</td><td>247.9  </td></tr>\n",
       "\t<tr><th scope=row>Return of the Jedi</th><td>309.306</td><td>165.8  </td></tr>\n",
       "\t<tr><th scope=row>The Phantom Menace</th><td>474.500</td><td>552.5  </td></tr>\n",
       "\t<tr><th scope=row>Attack of the Clones</th><td>310.700</td><td>338.7  </td></tr>\n",
       "\t<tr><th scope=row>Revenge of the Sith</th><td>380.300</td><td>468.5  </td></tr>\n",
       "</tbody>\n",
       "</table>\n"
      ],
      "text/latex": [
       "\\begin{tabular}{r|ll}\n",
       "  & US & non-US\\\\\n",
       "\\hline\n",
       "\tA New Hope & 460.998 & 314.4  \\\\\n",
       "\tThe Empire Strikes Back & 290.475 & 247.9  \\\\\n",
       "\tReturn of the Jedi & 309.306 & 165.8  \\\\\n",
       "\tThe Phantom Menace & 474.500 & 552.5  \\\\\n",
       "\tAttack of the Clones & 310.700 & 338.7  \\\\\n",
       "\tRevenge of the Sith & 380.300 & 468.5  \\\\\n",
       "\\end{tabular}\n"
      ],
      "text/markdown": [
       "\n",
       "| <!--/--> | US | non-US | \n",
       "|---|---|---|---|---|---|\n",
       "| A New Hope | 460.998 | 314.4   | \n",
       "| The Empire Strikes Back | 290.475 | 247.9   | \n",
       "| Return of the Jedi | 309.306 | 165.8   | \n",
       "| The Phantom Menace | 474.500 | 552.5   | \n",
       "| Attack of the Clones | 310.700 | 338.7   | \n",
       "| Revenge of the Sith | 380.300 | 468.5   | \n",
       "\n",
       "\n"
      ],
      "text/plain": [
       "                        US      non-US\n",
       "A New Hope              460.998 314.4 \n",
       "The Empire Strikes Back 290.475 247.9 \n",
       "Return of the Jedi      309.306 165.8 \n",
       "The Phantom Menace      474.500 552.5 \n",
       "Attack of the Clones    310.700 338.7 \n",
       "Revenge of the Sith     380.300 468.5 "
      ]
     },
     "metadata": {},
     "output_type": "display_data"
    },
    {
     "name": "stdout",
     "output_type": "stream",
     "text": [
      "[1] 347.9667\n",
      "[1] 281.15\n"
     ]
    }
   ],
   "source": [
    "# all_wars_matrix is available in your workspace\n",
    "all_wars_matrix\n",
    "\n",
    "# Select the non-US revenue for all movies\n",
    "non_us_all <- all_wars_matrix[,2]\n",
    "  \n",
    "# Average non-US revenue\n",
    "print(mean(non_us_all))\n",
    "  \n",
    "# Select the non-US revenue for first two movies\n",
    "non_us_some <- all_wars_matrix[1:2,2]\n",
    "  \n",
    "# Average non-US revenue for first two movies\n",
    "print(mean(non_us_some))"
   ]
  },
  {
   "cell_type": "markdown",
   "metadata": {},
   "source": [
    "### A little arithmetic with matrices"
   ]
  },
  {
   "cell_type": "code",
   "execution_count": 50,
   "metadata": {},
   "outputs": [
    {
     "data": {
      "text/html": [
       "<table>\n",
       "<thead><tr><th></th><th scope=col>US</th><th scope=col>non-US</th></tr></thead>\n",
       "<tbody>\n",
       "\t<tr><th scope=row>A New Hope</th><td>460.998</td><td>314.4  </td></tr>\n",
       "\t<tr><th scope=row>The Empire Strikes Back</th><td>290.475</td><td>247.9  </td></tr>\n",
       "\t<tr><th scope=row>Return of the Jedi</th><td>309.306</td><td>165.8  </td></tr>\n",
       "\t<tr><th scope=row>The Phantom Menace</th><td>474.500</td><td>552.5  </td></tr>\n",
       "\t<tr><th scope=row>Attack of the Clones</th><td>310.700</td><td>338.7  </td></tr>\n",
       "\t<tr><th scope=row>Revenge of the Sith</th><td>380.300</td><td>468.5  </td></tr>\n",
       "</tbody>\n",
       "</table>\n"
      ],
      "text/latex": [
       "\\begin{tabular}{r|ll}\n",
       "  & US & non-US\\\\\n",
       "\\hline\n",
       "\tA New Hope & 460.998 & 314.4  \\\\\n",
       "\tThe Empire Strikes Back & 290.475 & 247.9  \\\\\n",
       "\tReturn of the Jedi & 309.306 & 165.8  \\\\\n",
       "\tThe Phantom Menace & 474.500 & 552.5  \\\\\n",
       "\tAttack of the Clones & 310.700 & 338.7  \\\\\n",
       "\tRevenge of the Sith & 380.300 & 468.5  \\\\\n",
       "\\end{tabular}\n"
      ],
      "text/markdown": [
       "\n",
       "| <!--/--> | US | non-US | \n",
       "|---|---|---|---|---|---|\n",
       "| A New Hope | 460.998 | 314.4   | \n",
       "| The Empire Strikes Back | 290.475 | 247.9   | \n",
       "| Return of the Jedi | 309.306 | 165.8   | \n",
       "| The Phantom Menace | 474.500 | 552.5   | \n",
       "| Attack of the Clones | 310.700 | 338.7   | \n",
       "| Revenge of the Sith | 380.300 | 468.5   | \n",
       "\n",
       "\n"
      ],
      "text/plain": [
       "                        US      non-US\n",
       "A New Hope              460.998 314.4 \n",
       "The Empire Strikes Back 290.475 247.9 \n",
       "Return of the Jedi      309.306 165.8 \n",
       "The Phantom Menace      474.500 552.5 \n",
       "Attack of the Clones    310.700 338.7 \n",
       "Revenge of the Sith     380.300 468.5 "
      ]
     },
     "metadata": {},
     "output_type": "display_data"
    },
    {
     "data": {
      "text/html": [
       "<table>\n",
       "<thead><tr><th></th><th scope=col>US</th><th scope=col>non-US</th></tr></thead>\n",
       "<tbody>\n",
       "\t<tr><th scope=row>A New Hope</th><td>92.1996</td><td> 62.88 </td></tr>\n",
       "\t<tr><th scope=row>The Empire Strikes Back</th><td>58.0950</td><td> 49.58 </td></tr>\n",
       "\t<tr><th scope=row>Return of the Jedi</th><td>61.8612</td><td> 33.16 </td></tr>\n",
       "\t<tr><th scope=row>The Phantom Menace</th><td>94.9000</td><td>110.50 </td></tr>\n",
       "\t<tr><th scope=row>Attack of the Clones</th><td>62.1400</td><td> 67.74 </td></tr>\n",
       "\t<tr><th scope=row>Revenge of the Sith</th><td>76.0600</td><td> 93.70 </td></tr>\n",
       "</tbody>\n",
       "</table>\n"
      ],
      "text/latex": [
       "\\begin{tabular}{r|ll}\n",
       "  & US & non-US\\\\\n",
       "\\hline\n",
       "\tA New Hope & 92.1996 &  62.88 \\\\\n",
       "\tThe Empire Strikes Back & 58.0950 &  49.58 \\\\\n",
       "\tReturn of the Jedi & 61.8612 &  33.16 \\\\\n",
       "\tThe Phantom Menace & 94.9000 & 110.50 \\\\\n",
       "\tAttack of the Clones & 62.1400 &  67.74 \\\\\n",
       "\tRevenge of the Sith & 76.0600 &  93.70 \\\\\n",
       "\\end{tabular}\n"
      ],
      "text/markdown": [
       "\n",
       "| <!--/--> | US | non-US | \n",
       "|---|---|---|---|---|---|\n",
       "| A New Hope | 92.1996 |  62.88  | \n",
       "| The Empire Strikes Back | 58.0950 |  49.58  | \n",
       "| Return of the Jedi | 61.8612 |  33.16  | \n",
       "| The Phantom Menace | 94.9000 | 110.50  | \n",
       "| Attack of the Clones | 62.1400 |  67.74  | \n",
       "| Revenge of the Sith | 76.0600 |  93.70  | \n",
       "\n",
       "\n"
      ],
      "text/plain": [
       "                        US      non-US\n",
       "A New Hope              92.1996  62.88\n",
       "The Empire Strikes Back 58.0950  49.58\n",
       "Return of the Jedi      61.8612  33.16\n",
       "The Phantom Menace      94.9000 110.50\n",
       "Attack of the Clones    62.1400  67.74\n",
       "Revenge of the Sith     76.0600  93.70"
      ]
     },
     "metadata": {},
     "output_type": "display_data"
    }
   ],
   "source": [
    "# all_wars_matrix is available in your workspace\n",
    "all_wars_matrix\n",
    "\n",
    "# Estimate the visitors\n",
    "visitors <- all_wars_matrix / 5\n",
    "  \n",
    "# Print the estimate to the console\n",
    "visitors"
   ]
  },
  {
   "cell_type": "markdown",
   "metadata": {},
   "source": [
    "### A little arithmetic with matrices (2)"
   ]
  },
  {
   "cell_type": "code",
   "execution_count": 56,
   "metadata": {},
   "outputs": [],
   "source": [
    "ticket_prices_matrix <- matrix(c(5, 5, 6, 6, 7, 7, 4, 4, 4.5, 4.5, 4.9, 4.9), nrow = 6, byrow = TRUE, \n",
    "dimnames = list(c(\"A New Hope\", \"The Empire Strikes Back\", \"Return of the Jedi\", \"The Phantom Menace\", \"Attack of the Clones\", \"Revenge of the Sith\"), \n",
    "                c(\"US\", \"non-US\")))"
   ]
  },
  {
   "cell_type": "code",
   "execution_count": 57,
   "metadata": {},
   "outputs": [
    {
     "data": {
      "text/html": [
       "<table>\n",
       "<thead><tr><th></th><th scope=col>US</th><th scope=col>non-US</th></tr></thead>\n",
       "<tbody>\n",
       "\t<tr><th scope=row>A New Hope</th><td>460.998</td><td>314.4  </td></tr>\n",
       "\t<tr><th scope=row>The Empire Strikes Back</th><td>290.475</td><td>247.9  </td></tr>\n",
       "\t<tr><th scope=row>Return of the Jedi</th><td>309.306</td><td>165.8  </td></tr>\n",
       "\t<tr><th scope=row>The Phantom Menace</th><td>474.500</td><td>552.5  </td></tr>\n",
       "\t<tr><th scope=row>Attack of the Clones</th><td>310.700</td><td>338.7  </td></tr>\n",
       "\t<tr><th scope=row>Revenge of the Sith</th><td>380.300</td><td>468.5  </td></tr>\n",
       "</tbody>\n",
       "</table>\n"
      ],
      "text/latex": [
       "\\begin{tabular}{r|ll}\n",
       "  & US & non-US\\\\\n",
       "\\hline\n",
       "\tA New Hope & 460.998 & 314.4  \\\\\n",
       "\tThe Empire Strikes Back & 290.475 & 247.9  \\\\\n",
       "\tReturn of the Jedi & 309.306 & 165.8  \\\\\n",
       "\tThe Phantom Menace & 474.500 & 552.5  \\\\\n",
       "\tAttack of the Clones & 310.700 & 338.7  \\\\\n",
       "\tRevenge of the Sith & 380.300 & 468.5  \\\\\n",
       "\\end{tabular}\n"
      ],
      "text/markdown": [
       "\n",
       "| <!--/--> | US | non-US | \n",
       "|---|---|---|---|---|---|\n",
       "| A New Hope | 460.998 | 314.4   | \n",
       "| The Empire Strikes Back | 290.475 | 247.9   | \n",
       "| Return of the Jedi | 309.306 | 165.8   | \n",
       "| The Phantom Menace | 474.500 | 552.5   | \n",
       "| Attack of the Clones | 310.700 | 338.7   | \n",
       "| Revenge of the Sith | 380.300 | 468.5   | \n",
       "\n",
       "\n"
      ],
      "text/plain": [
       "                        US      non-US\n",
       "A New Hope              460.998 314.4 \n",
       "The Empire Strikes Back 290.475 247.9 \n",
       "Return of the Jedi      309.306 165.8 \n",
       "The Phantom Menace      474.500 552.5 \n",
       "Attack of the Clones    310.700 338.7 \n",
       "Revenge of the Sith     380.300 468.5 "
      ]
     },
     "metadata": {},
     "output_type": "display_data"
    },
    {
     "data": {
      "text/html": [
       "<table>\n",
       "<thead><tr><th></th><th scope=col>US</th><th scope=col>non-US</th></tr></thead>\n",
       "<tbody>\n",
       "\t<tr><th scope=row>A New Hope</th><td>5.0</td><td>5.0</td></tr>\n",
       "\t<tr><th scope=row>The Empire Strikes Back</th><td>6.0</td><td>6.0</td></tr>\n",
       "\t<tr><th scope=row>Return of the Jedi</th><td>7.0</td><td>7.0</td></tr>\n",
       "\t<tr><th scope=row>The Phantom Menace</th><td>4.0</td><td>4.0</td></tr>\n",
       "\t<tr><th scope=row>Attack of the Clones</th><td>4.5</td><td>4.5</td></tr>\n",
       "\t<tr><th scope=row>Revenge of the Sith</th><td>4.9</td><td>4.9</td></tr>\n",
       "</tbody>\n",
       "</table>\n"
      ],
      "text/latex": [
       "\\begin{tabular}{r|ll}\n",
       "  & US & non-US\\\\\n",
       "\\hline\n",
       "\tA New Hope & 5.0 & 5.0\\\\\n",
       "\tThe Empire Strikes Back & 6.0 & 6.0\\\\\n",
       "\tReturn of the Jedi & 7.0 & 7.0\\\\\n",
       "\tThe Phantom Menace & 4.0 & 4.0\\\\\n",
       "\tAttack of the Clones & 4.5 & 4.5\\\\\n",
       "\tRevenge of the Sith & 4.9 & 4.9\\\\\n",
       "\\end{tabular}\n"
      ],
      "text/markdown": [
       "\n",
       "| <!--/--> | US | non-US | \n",
       "|---|---|---|---|---|---|\n",
       "| A New Hope | 5.0 | 5.0 | \n",
       "| The Empire Strikes Back | 6.0 | 6.0 | \n",
       "| Return of the Jedi | 7.0 | 7.0 | \n",
       "| The Phantom Menace | 4.0 | 4.0 | \n",
       "| Attack of the Clones | 4.5 | 4.5 | \n",
       "| Revenge of the Sith | 4.9 | 4.9 | \n",
       "\n",
       "\n"
      ],
      "text/plain": [
       "                        US  non-US\n",
       "A New Hope              5.0 5.0   \n",
       "The Empire Strikes Back 6.0 6.0   \n",
       "Return of the Jedi      7.0 7.0   \n",
       "The Phantom Menace      4.0 4.0   \n",
       "Attack of the Clones    4.5 4.5   \n",
       "Revenge of the Sith     4.9 4.9   "
      ]
     },
     "metadata": {},
     "output_type": "display_data"
    },
    {
     "data": {
      "text/html": [
       "75.0133934618292"
      ],
      "text/latex": [
       "75.0133934618292"
      ],
      "text/markdown": [
       "75.0133934618292"
      ],
      "text/plain": [
       "[1] 75.01339"
      ]
     },
     "metadata": {},
     "output_type": "display_data"
    }
   ],
   "source": [
    "# all_wars_matrix and ticket_prices_matrix are available in your workspace\n",
    "all_wars_matrix\n",
    "ticket_prices_matrix\n",
    "\n",
    "# Estimated number of visitors\n",
    "visitors <- all_wars_matrix / ticket_prices_matrix\n",
    "\n",
    "# US visitors\n",
    "us_visitors <- visitors[,1]\n",
    "\n",
    "# Average number of US visitors\n",
    "mean(us_visitors)"
   ]
  },
  {
   "cell_type": "markdown",
   "metadata": {},
   "source": [
    "## Factors"
   ]
  },
  {
   "cell_type": "code",
   "execution_count": 58,
   "metadata": {},
   "outputs": [],
   "source": [
    "# Assign to the variable theory what this chapter is about!\n",
    "theory <- \"factors for categorical variables\""
   ]
  },
  {
   "cell_type": "markdown",
   "metadata": {},
   "source": [
    "### What's a factor and why would you use it? (2)"
   ]
  },
  {
   "cell_type": "code",
   "execution_count": 59,
   "metadata": {},
   "outputs": [
    {
     "data": {
      "text/html": [
       "<ol class=list-inline>\n",
       "\t<li>Male</li>\n",
       "\t<li>Female</li>\n",
       "\t<li>Female</li>\n",
       "\t<li>Male</li>\n",
       "\t<li>Male</li>\n",
       "</ol>\n",
       "\n",
       "<details>\n",
       "\t<summary style=display:list-item;cursor:pointer>\n",
       "\t\t<strong>Levels</strong>:\n",
       "\t</summary>\n",
       "\t<ol class=list-inline>\n",
       "\t\t<li>'Female'</li>\n",
       "\t\t<li>'Male'</li>\n",
       "\t</ol>\n",
       "</details>"
      ],
      "text/latex": [
       "\\begin{enumerate*}\n",
       "\\item Male\n",
       "\\item Female\n",
       "\\item Female\n",
       "\\item Male\n",
       "\\item Male\n",
       "\\end{enumerate*}\n",
       "\n",
       "\\emph{Levels}: \\begin{enumerate*}\n",
       "\\item 'Female'\n",
       "\\item 'Male'\n",
       "\\end{enumerate*}\n"
      ],
      "text/markdown": [
       "1. Male\n",
       "2. Female\n",
       "3. Female\n",
       "4. Male\n",
       "5. Male\n",
       "\n",
       "\n",
       "\n",
       "**Levels**: 1. 'Female'\n",
       "2. 'Male'\n",
       "\n",
       "\n"
      ],
      "text/plain": [
       "[1] Male   Female Female Male   Male  \n",
       "Levels: Female Male"
      ]
     },
     "metadata": {},
     "output_type": "display_data"
    }
   ],
   "source": [
    "# Sex vector\n",
    "sex_vector <- c(\"Male\", \"Female\", \"Female\", \"Male\", \"Male\")\n",
    "\n",
    "# Convert sex_vector to a factor\n",
    "factor_sex_vector <- factor(sex_vector)\n",
    "\n",
    "# Print out factor_sex_vector\n",
    "factor_sex_vector"
   ]
  },
  {
   "cell_type": "code",
   "execution_count": 60,
   "metadata": {},
   "outputs": [
    {
     "data": {
      "text/html": [
       "\n",
       "<table width=\"100%\" summary=\"page for factor {base}\"><tr><td>factor {base}</td><td style=\"text-align: right;\">R Documentation</td></tr></table>\n",
       "\n",
       "<h2>Factors</h2>\n",
       "\n",
       "<h3>Description</h3>\n",
       "\n",
       "<p>The function <code>factor</code> is used to encode a vector as a factor (the\n",
       "terms &lsquo;category&rsquo; and &lsquo;enumerated type&rsquo; are also used for\n",
       "factors).  If argument <code>ordered</code> is <code>TRUE</code>, the factor\n",
       "levels are assumed to be ordered.  For compatibility with S there is\n",
       "also a function <code>ordered</code>.\n",
       "</p>\n",
       "<p><code>is.factor</code>, <code>is.ordered</code>, <code>as.factor</code> and <code>as.ordered</code>\n",
       "are the membership and coercion functions for these classes.\n",
       "</p>\n",
       "\n",
       "\n",
       "<h3>Usage</h3>\n",
       "\n",
       "<pre>\n",
       "factor(x = character(), levels, labels = levels,\n",
       "       exclude = NA, ordered = is.ordered(x), nmax = NA)\n",
       "\n",
       "ordered(x, ...)\n",
       "\n",
       "is.factor(x)\n",
       "is.ordered(x)\n",
       "\n",
       "as.factor(x)\n",
       "as.ordered(x)\n",
       "\n",
       "addNA(x, ifany = FALSE)\n",
       "</pre>\n",
       "\n",
       "\n",
       "<h3>Arguments</h3>\n",
       "\n",
       "<table summary=\"R argblock\">\n",
       "<tr valign=\"top\"><td><code>x</code></td>\n",
       "<td>\n",
       "<p>a vector of data, usually taking a small number of distinct\n",
       "values.</p>\n",
       "</td></tr>\n",
       "<tr valign=\"top\"><td><code>levels</code></td>\n",
       "<td>\n",
       "<p>an optional vector of the unique values (as character strings)\n",
       "that <code>x</code> might have taken.  The default is the unique set of\n",
       "values taken by <code>as.character(x)</code>, sorted into\n",
       "increasing order <em>of <code>x</code></em>.  Note that this set can be\n",
       "specified as smaller than <code>sort(unique(x))</code>.</p>\n",
       "</td></tr>\n",
       "<tr valign=\"top\"><td><code>labels</code></td>\n",
       "<td>\n",
       "<p><em>either</em> an optional character vector of\n",
       "labels for the levels (in the same order as <code>levels</code> after\n",
       "removing those in <code>exclude</code>), <em>or</em> a character string of\n",
       "length 1.  Duplicated values in <code>labels</code> can be used to map\n",
       "different values of <code>x</code> to the same factor level.</p>\n",
       "</td></tr>\n",
       "<tr valign=\"top\"><td><code>exclude</code></td>\n",
       "<td>\n",
       "<p>a vector of values to be excluded when forming the\n",
       "set of levels.  This may be factor with the same level set as <code>x</code>\n",
       "or should be a <code>character</code>.</p>\n",
       "</td></tr>\n",
       "<tr valign=\"top\"><td><code>ordered</code></td>\n",
       "<td>\n",
       "<p>logical flag to determine if the levels should be regarded\n",
       "as ordered (in the order given).</p>\n",
       "</td></tr>\n",
       "<tr valign=\"top\"><td><code>nmax</code></td>\n",
       "<td>\n",
       "<p>an upper bound on the number of levels; see &lsquo;Details&rsquo;.</p>\n",
       "</td></tr>\n",
       "<tr valign=\"top\"><td><code>...</code></td>\n",
       "<td>\n",
       "<p>(in <code>ordered(.)</code>): any of the above, apart from\n",
       "<code>ordered</code> itself.</p>\n",
       "</td></tr>\n",
       "<tr valign=\"top\"><td><code>ifany</code></td>\n",
       "<td>\n",
       "<p>only add an <code>NA</code> level if it is used, i.e.\n",
       "if <code>any(is.na(x))</code>.</p>\n",
       "</td></tr>\n",
       "</table>\n",
       "\n",
       "\n",
       "<h3>Details</h3>\n",
       "\n",
       "<p>The type of the vector <code>x</code> is not restricted; it only must have\n",
       "an <code>as.character</code> method and be sortable (by\n",
       "<code>order</code>).\n",
       "</p>\n",
       "<p>Ordered factors differ from factors only in their class, but methods\n",
       "and the model-fitting functions treat the two classes quite differently.\n",
       "</p>\n",
       "<p>The encoding of the vector happens as follows.  First all the values\n",
       "in <code>exclude</code> are removed from <code>levels</code>. If <code>x[i]</code>\n",
       "equals <code>levels[j]</code>, then the <code>i</code>-th element of the result is\n",
       "<code>j</code>.  If no match is found for <code>x[i]</code> in <code>levels</code>\n",
       "(which will happen for excluded values) then the <code>i</code>-th element\n",
       "of the result is set to <code>NA</code>.\n",
       "</p>\n",
       "<p>Normally the &lsquo;levels&rsquo; used as an attribute of the result are\n",
       "the reduced set of levels after removing those in <code>exclude</code>, but\n",
       "this can be altered by supplying <code>labels</code>.  This should either\n",
       "be a set of new labels for the levels, or a character string, in\n",
       "which case the levels are that character string with a sequence\n",
       "number appended.\n",
       "</p>\n",
       "<p><code>factor(x, exclude = NULL)</code> applied to a factor without\n",
       "<code>NA</code>s is a no-operation unless there are unused levels: in\n",
       "that case, a factor with the reduced level set is returned.  If\n",
       "<code>exclude</code> is used, since <span style=\"font-family: Courier New, Courier; color: #666666;\"><b>R</b></span> version 3.4.0, excluding non-existing\n",
       "character levels is equivalent to excluding nothing, and when\n",
       "<code>exclude</code> is a <code>character</code> vector, that <em>is</em>\n",
       "applied to the levels of <code>x</code>.\n",
       "Alternatively, <code>exclude</code> can be factor with the same level set as\n",
       "<code>x</code> and will exclude the levels present in <code>exclude</code>.\n",
       "</p>\n",
       "<p>The codes of a factor may contain <code>NA</code>.  For a numeric\n",
       "<code>x</code>, set <code>exclude = NULL</code> to make <code>NA</code> an extra\n",
       "level (prints as <code>&lt;NA&gt;</code>); by default, this is the last level.\n",
       "</p>\n",
       "<p>If <code>NA</code> is a level, the way to set a code to be missing (as\n",
       "opposed to the code of the missing level) is to\n",
       "use <code>is.na</code> on the left-hand-side of an assignment (as in\n",
       "<code>is.na(f)[i] &lt;- TRUE</code>; indexing inside <code>is.na</code> does not work).\n",
       "Under those circumstances missing values are currently printed as\n",
       "<code>&lt;NA&gt;</code>, i.e., identical to entries of level <code>NA</code>.\n",
       "</p>\n",
       "<p><code>is.factor</code> is generic: you can write methods to handle\n",
       "specific classes of objects, see InternalMethods.\n",
       "</p>\n",
       "<p>Where <code>levels</code> is not supplied, <code>unique</code> is called.\n",
       "Since factors typically have quite a small number of levels, for large\n",
       "vectors <code>x</code> it is helpful to supply <code>nmax</code> as an upper bound\n",
       "on the number of unique values.\n",
       "</p>\n",
       "\n",
       "\n",
       "<h3>Value</h3>\n",
       "\n",
       "<p><code>factor</code> returns an object of class <code>\"factor\"</code> which has a\n",
       "set of integer codes the length of <code>x</code> with a <code>\"levels\"</code>\n",
       "attribute of mode <code>character</code> and unique\n",
       "(<code>!anyDuplicated(.)</code>) entries.  If argument <code>ordered</code>\n",
       "is true (or <code>ordered()</code> is used) the result has class\n",
       "<code>c(\"ordered\", \"factor\")</code>.\n",
       "Undocumentedly for a long time, <code>factor(x)</code> loses all\n",
       "<code>attributes(x)</code> but <code>\"names\"</code>, and resets\n",
       "<code>\"levels\"</code> and <code>\"class\"</code>.\n",
       "</p>\n",
       "<p>Applying <code>factor</code> to an ordered or unordered factor returns a\n",
       "factor (of the same type) with just the levels which occur: see also\n",
       "<code>[.factor</code> for a more transparent way to achieve this.\n",
       "</p>\n",
       "<p><code>is.factor</code> returns <code>TRUE</code> or <code>FALSE</code> depending on\n",
       "whether its argument is of type factor or not.  Correspondingly,\n",
       "<code>is.ordered</code> returns <code>TRUE</code> when its argument is an ordered\n",
       "factor and <code>FALSE</code> otherwise.\n",
       "</p>\n",
       "<p><code>as.factor</code> coerces its argument to a factor.\n",
       "It is an abbreviated (sometimes faster) form of <code>factor</code>.\n",
       "</p>\n",
       "<p><code>as.ordered(x)</code> returns <code>x</code> if this is ordered, and\n",
       "<code>ordered(x)</code> otherwise.\n",
       "</p>\n",
       "<p><code>addNA</code> modifies a factor by turning <code>NA</code> into an extra\n",
       "level (so that <code>NA</code> values are counted in tables, for instance).\n",
       "</p>\n",
       "<p><code>.valid.factor(object)</code> checks the validity of a factor,\n",
       "currently only <code>levels(object)</code>, and returns <code>TRUE</code> if it is\n",
       "valid, otherwise a string describing the validity problem.  This\n",
       "function is used for <code>validObject(&lt;factor&gt;)</code>.\n",
       "</p>\n",
       "\n",
       "\n",
       "<h3>Warning</h3>\n",
       "\n",
       "<p>The interpretation of a factor depends on both the codes and the\n",
       "<code>\"levels\"</code> attribute.  Be careful only to compare factors with\n",
       "the same set of levels (in the same order).  In particular,\n",
       "<code>as.numeric</code> applied to a factor is meaningless, and may\n",
       "happen by implicit coercion.  To transform a factor <code>f</code> to\n",
       "approximately its original numeric values,\n",
       "<code>as.numeric(levels(f))[f]</code> is recommended and slightly more\n",
       "efficient than <code>as.numeric(as.character(f))</code>.\n",
       "</p>\n",
       "<p>The levels of a factor are by default sorted, but the sort order\n",
       "may well depend on the locale at the time of creation, and should\n",
       "not be assumed to be ASCII.\n",
       "</p>\n",
       "<p>There are some anomalies associated with factors that have\n",
       "<code>NA</code> as a level.  It is suggested to use them sparingly, e.g.,\n",
       "only for tabulation purposes.\n",
       "</p>\n",
       "\n",
       "\n",
       "<h3>Comparison operators and group generic methods</h3>\n",
       "\n",
       "<p>There are <code>\"factor\"</code> and <code>\"ordered\"</code> methods for the\n",
       "group generic <code>Ops</code> which\n",
       "provide methods for the Comparison operators,\n",
       "and for the <code>min</code>, <code>max</code>, and\n",
       "<code>range</code> generics in <code>Summary</code>\n",
       "of <code>\"ordered\"</code>.  (The rest of the groups and the\n",
       "<code>Math</code> group generate an error as they\n",
       "are not meaningful for factors.)\n",
       "</p>\n",
       "<p>Only <code>==</code> and <code>!=</code> can be used for factors: a factor can\n",
       "only be compared to another factor with an identical set of levels\n",
       "(not necessarily in the same ordering) or to a character vector.\n",
       "Ordered factors are compared in the same way, but the general dispatch\n",
       "mechanism precludes comparing ordered and unordered factors.\n",
       "</p>\n",
       "<p>All the comparison operators are available for ordered factors.\n",
       "Collation is done by the levels of the operands: if both operands are\n",
       "ordered factors they must have the same level set.\n",
       "</p>\n",
       "\n",
       "\n",
       "<h3>Note</h3>\n",
       "\n",
       "<p>In earlier versions of <span style=\"font-family: Courier New, Courier; color: #666666;\"><b>R</b></span>, storing character data as a factor was more\n",
       "space efficient if there is even a small proportion of\n",
       "repeats.  However, identical character strings now share storage, so\n",
       "the difference is small in most cases.  (Integer values are stored\n",
       "in 4 bytes whereas each reference to a character string needs a\n",
       "pointer of 4 or 8 bytes.)\n",
       "</p>\n",
       "\n",
       "\n",
       "<h3>References</h3>\n",
       "\n",
       "<p>Chambers, J. M. and Hastie, T. J. (1992)\n",
       "<em>Statistical Models in S</em>.\n",
       "Wadsworth &amp; Brooks/Cole.\n",
       "</p>\n",
       "\n",
       "\n",
       "<h3>See Also</h3>\n",
       "\n",
       "<p><code>[.factor</code> for subsetting of factors.\n",
       "</p>\n",
       "<p><code>gl</code> for construction of balanced factors and\n",
       "<code>C</code> for factors with specified contrasts.\n",
       "<code>levels</code> and <code>nlevels</code> for accessing the\n",
       "levels, and <code>unclass</code> to get integer codes.\n",
       "</p>\n",
       "\n",
       "\n",
       "<h3>Examples</h3>\n",
       "\n",
       "<pre>\n",
       "(ff &lt;- factor(substring(\"statistics\", 1:10, 1:10), levels = letters))\n",
       "as.integer(ff)      # the internal codes\n",
       "(f. &lt;- factor(ff))  # drops the levels that do not occur\n",
       "ff[, drop = TRUE]   # the same, more transparently\n",
       "\n",
       "factor(letters[1:20], labels = \"letter\")\n",
       "\n",
       "class(ordered(4:1)) # \"ordered\", inheriting from \"factor\"\n",
       "z &lt;- factor(LETTERS[3:1], ordered = TRUE)\n",
       "## and \"relational\" methods work:\n",
       "stopifnot(sort(z)[c(1,3)] == range(z), min(z) &lt; max(z))\n",
       "\n",
       "\n",
       "## suppose you want \"NA\" as a level, and to allow missing values.\n",
       "(x &lt;- factor(c(1, 2, NA), exclude = NULL))\n",
       "is.na(x)[2] &lt;- TRUE\n",
       "x  # [1] 1    &lt;NA&gt; &lt;NA&gt;\n",
       "is.na(x)\n",
       "# [1] FALSE  TRUE FALSE\n",
       "\n",
       "## More rational, since R 3.4.0 :\n",
       "factor(c(1:2, NA), exclude =  \"\" ) # keeps &lt;NA&gt; , as\n",
       "factor(c(1:2, NA), exclude = NULL) # always did\n",
       "## exclude = &lt;character&gt;\n",
       "z # ordered levels 'A &lt; B &lt; C'\n",
       "factor(z, exclude = \"C\") # does exclude\n",
       "factor(z, exclude = \"B\") # ditto\n",
       "\n",
       "## Now, labels maybe duplicated:\n",
       "## factor() with duplicated labels allowing to \"merge levels\"\n",
       "x &lt;- c(\"Man\", \"Male\", \"Man\", \"Lady\", \"Female\")\n",
       "## Map from 4 different values to only two levels:\n",
       "(xf &lt;- factor(x, levels = c(\"Male\", \"Man\" , \"Lady\",   \"Female\"),\n",
       "                 labels = c(\"Male\", \"Male\", \"Female\", \"Female\")))\n",
       "#&gt; [1] Male   Male   Male   Female Female\n",
       "#&gt; Levels: Male Female\n",
       "\n",
       "## Using addNA()\n",
       "Month &lt;- airquality$Month\n",
       "table(addNA(Month))\n",
       "table(addNA(Month, ifany = TRUE))\n",
       "</pre>\n",
       "\n",
       "<hr /><div style=\"text-align: center;\">[Package <em>base</em> version 3.5.1 ]</div>"
      ],
      "text/latex": [
       "\\inputencoding{utf8}\n",
       "\\HeaderA{factor}{Factors}{factor}\n",
       "\\aliasA{.valid.factor}{factor}{.valid.factor}\n",
       "\\aliasA{addNA}{factor}{addNA}\n",
       "\\aliasA{as.factor}{factor}{as.factor}\n",
       "\\aliasA{as.ordered}{factor}{as.ordered}\n",
       "\\aliasA{is.factor}{factor}{is.factor}\n",
       "\\aliasA{is.na<\\Rdash{}.factor}{factor}{is.na<.Rdash..factor}\n",
       "\\aliasA{is.ordered}{factor}{is.ordered}\n",
       "\\aliasA{Math.factor}{factor}{Math.factor}\n",
       "\\aliasA{Ops.factor}{factor}{Ops.factor}\n",
       "\\aliasA{Ops.ordered}{factor}{Ops.ordered}\n",
       "\\aliasA{ordered}{factor}{ordered}\n",
       "\\aliasA{Summary.factor}{factor}{Summary.factor}\n",
       "\\aliasA{Summary.ordered}{factor}{Summary.ordered}\n",
       "\\keyword{category}{factor}\n",
       "\\keyword{NA}{factor}\n",
       "%\n",
       "\\begin{Description}\\relax\n",
       "The function \\code{factor} is used to encode a vector as a factor (the\n",
       "terms `category' and `enumerated type' are also used for\n",
       "factors).  If argument \\code{ordered} is \\code{TRUE}, the factor\n",
       "levels are assumed to be ordered.  For compatibility with S there is\n",
       "also a function \\code{ordered}.\n",
       "\n",
       "\\code{is.factor}, \\code{is.ordered}, \\code{as.factor} and \\code{as.ordered}\n",
       "are the membership and coercion functions for these classes.\n",
       "\\end{Description}\n",
       "%\n",
       "\\begin{Usage}\n",
       "\\begin{verbatim}\n",
       "factor(x = character(), levels, labels = levels,\n",
       "       exclude = NA, ordered = is.ordered(x), nmax = NA)\n",
       "\n",
       "ordered(x, ...)\n",
       "\n",
       "is.factor(x)\n",
       "is.ordered(x)\n",
       "\n",
       "as.factor(x)\n",
       "as.ordered(x)\n",
       "\n",
       "addNA(x, ifany = FALSE)\n",
       "\\end{verbatim}\n",
       "\\end{Usage}\n",
       "%\n",
       "\\begin{Arguments}\n",
       "\\begin{ldescription}\n",
       "\\item[\\code{x}] a vector of data, usually taking a small number of distinct\n",
       "values.\n",
       "\\item[\\code{levels}] an optional vector of the unique values (as character strings)\n",
       "that \\code{x} might have taken.  The default is the unique set of\n",
       "values taken by \\code{\\LinkA{as.character}{as.character}(x)}, sorted into\n",
       "increasing order \\emph{of \\code{x}}.  Note that this set can be\n",
       "specified as smaller than \\code{sort(unique(x))}.\n",
       "\\item[\\code{labels}] \\emph{either} an optional character vector of\n",
       "labels for the levels (in the same order as \\code{levels} after\n",
       "removing those in \\code{exclude}), \\emph{or} a character string of\n",
       "length 1.  Duplicated values in \\code{labels} can be used to map\n",
       "different values of \\code{x} to the same factor level.\n",
       "\\item[\\code{exclude}] a vector of values to be excluded when forming the\n",
       "set of levels.  This may be factor with the same level set as \\code{x}\n",
       "or should be a \\code{character}.\n",
       "\\item[\\code{ordered}] logical flag to determine if the levels should be regarded\n",
       "as ordered (in the order given).\n",
       "\\item[\\code{nmax}] an upper bound on the number of levels; see `Details'.\n",
       "\\item[\\code{...}] (in \\code{ordered(.)}): any of the above, apart from\n",
       "\\code{ordered} itself.\n",
       "\\item[\\code{ifany}] only add an \\code{NA} level if it is used, i.e.\n",
       "if \\code{any(is.na(x))}.\n",
       "\\end{ldescription}\n",
       "\\end{Arguments}\n",
       "%\n",
       "\\begin{Details}\\relax\n",
       "The type of the vector \\code{x} is not restricted; it only must have\n",
       "an \\code{\\LinkA{as.character}{as.character}} method and be sortable (by\n",
       "\\code{\\LinkA{order}{order}}).\n",
       "\n",
       "Ordered factors differ from factors only in their class, but methods\n",
       "and the model-fitting functions treat the two classes quite differently.\n",
       "\n",
       "The encoding of the vector happens as follows.  First all the values\n",
       "in \\code{exclude} are removed from \\code{levels}. If \\code{x[i]}\n",
       "equals \\code{levels[j]}, then the \\code{i}-th element of the result is\n",
       "\\code{j}.  If no match is found for \\code{x[i]} in \\code{levels}\n",
       "(which will happen for excluded values) then the \\code{i}-th element\n",
       "of the result is set to \\code{\\LinkA{NA}{NA}}.\n",
       "\n",
       "Normally the `levels' used as an attribute of the result are\n",
       "the reduced set of levels after removing those in \\code{exclude}, but\n",
       "this can be altered by supplying \\code{labels}.  This should either\n",
       "be a set of new labels for the levels, or a character string, in\n",
       "which case the levels are that character string with a sequence\n",
       "number appended.\n",
       "\n",
       "\\code{factor(x, exclude = NULL)} applied to a factor without\n",
       "\\code{\\LinkA{NA}{NA}}s is a no-operation unless there are unused levels: in\n",
       "that case, a factor with the reduced level set is returned.  If\n",
       "\\code{exclude} is used, since \\R{} version 3.4.0, excluding non-existing\n",
       "character levels is equivalent to excluding nothing, and when\n",
       "\\code{exclude} is a \\code{\\LinkA{character}{character}} vector, that \\emph{is}\n",
       "applied to the levels of \\code{x}.\n",
       "Alternatively, \\code{exclude} can be factor with the same level set as\n",
       "\\code{x} and will exclude the levels present in \\code{exclude}.\n",
       "\n",
       "The codes of a factor may contain \\code{\\LinkA{NA}{NA}}.  For a numeric\n",
       "\\code{x}, set \\code{exclude = NULL} to make \\code{\\LinkA{NA}{NA}} an extra\n",
       "level (prints as \\code{<NA>}); by default, this is the last level.\n",
       "\n",
       "If \\code{NA} is a level, the way to set a code to be missing (as\n",
       "opposed to the code of the missing level) is to\n",
       "use \\code{\\LinkA{is.na}{is.na}} on the left-hand-side of an assignment (as in\n",
       "\\code{is.na(f)[i] <- TRUE}; indexing inside \\code{is.na} does not work).\n",
       "Under those circumstances missing values are currently printed as\n",
       "\\code{<NA>}, i.e., identical to entries of level \\code{NA}.\n",
       "\n",
       "\\code{is.factor} is generic: you can write methods to handle\n",
       "specific classes of objects, see \\LinkA{InternalMethods}{InternalMethods}.\n",
       "\n",
       "Where \\code{levels} is not supplied, \\code{\\LinkA{unique}{unique}} is called.\n",
       "Since factors typically have quite a small number of levels, for large\n",
       "vectors \\code{x} it is helpful to supply \\code{nmax} as an upper bound\n",
       "on the number of unique values.\n",
       "\\end{Details}\n",
       "%\n",
       "\\begin{Value}\n",
       "\\code{factor} returns an object of class \\code{\"factor\"} which has a\n",
       "set of integer codes the length of \\code{x} with a \\code{\"levels\"}\n",
       "attribute of mode \\code{\\LinkA{character}{character}} and unique\n",
       "(\\code{!\\LinkA{anyDuplicated}{anyDuplicated}(.)}) entries.  If argument \\code{ordered}\n",
       "is true (or \\code{ordered()} is used) the result has class\n",
       "\\code{c(\"ordered\", \"factor\")}.\n",
       "Undocumentedly for a long time, \\code{factor(x)} loses all\n",
       "\\code{\\LinkA{attributes}{attributes}(x)} but \\code{\"names\"}, and resets\n",
       "\\code{\"levels\"} and \\code{\"class\"}.\n",
       "\n",
       "Applying \\code{factor} to an ordered or unordered factor returns a\n",
       "factor (of the same type) with just the levels which occur: see also\n",
       "\\code{\\LinkA{[.factor}{[.factor}} for a more transparent way to achieve this.\n",
       "\n",
       "\\code{is.factor} returns \\code{TRUE} or \\code{FALSE} depending on\n",
       "whether its argument is of type factor or not.  Correspondingly,\n",
       "\\code{is.ordered} returns \\code{TRUE} when its argument is an ordered\n",
       "factor and \\code{FALSE} otherwise.\n",
       "\n",
       "\\code{as.factor} coerces its argument to a factor.\n",
       "It is an abbreviated (sometimes faster) form of \\code{factor}.\n",
       "\n",
       "\\code{as.ordered(x)} returns \\code{x} if this is ordered, and\n",
       "\\code{ordered(x)} otherwise.\n",
       "\n",
       "\\code{addNA} modifies a factor by turning \\code{NA} into an extra\n",
       "level (so that \\code{NA} values are counted in tables, for instance).\n",
       "\n",
       "\\code{.valid.factor(object)} checks the validity of a factor,\n",
       "currently only \\code{levels(object)}, and returns \\code{TRUE} if it is\n",
       "valid, otherwise a string describing the validity problem.  This\n",
       "function is used for \\code{\\LinkA{validObject}{validObject}(<factor>)}.\n",
       "\\end{Value}\n",
       "%\n",
       "\\begin{Section}{Warning}\n",
       "The interpretation of a factor depends on both the codes and the\n",
       "\\code{\"levels\"} attribute.  Be careful only to compare factors with\n",
       "the same set of levels (in the same order).  In particular,\n",
       "\\code{as.numeric} applied to a factor is meaningless, and may\n",
       "happen by implicit coercion.  To transform a factor \\code{f} to\n",
       "approximately its original numeric values,\n",
       "\\code{as.numeric(levels(f))[f]} is recommended and slightly more\n",
       "efficient than \\code{as.numeric(as.character(f))}.\n",
       "\n",
       "The levels of a factor are by default sorted, but the sort order\n",
       "may well depend on the locale at the time of creation, and should\n",
       "not be assumed to be ASCII.\n",
       "\n",
       "There are some anomalies associated with factors that have\n",
       "\\code{NA} as a level.  It is suggested to use them sparingly, e.g.,\n",
       "only for tabulation purposes.\n",
       "\\end{Section}\n",
       "%\n",
       "\\begin{Section}{Comparison operators and group generic methods}\n",
       "There are \\code{\"factor\"} and \\code{\"ordered\"} methods for the\n",
       "\\LinkA{group generic}{group generic} \\code{\\LinkA{Ops}{S3groupGeneric}} which\n",
       "provide methods for the \\LinkA{Comparison}{Comparison} operators,\n",
       "and for the \\code{\\LinkA{min}{min}}, \\code{\\LinkA{max}{max}}, and\n",
       "\\code{\\LinkA{range}{range}} generics in \\code{\\LinkA{Summary}{S3groupGeneric}}\n",
       "of \\code{\"ordered\"}.  (The rest of the groups and the\n",
       "\\code{\\LinkA{Math}{S3groupGeneric}} group generate an error as they\n",
       "are not meaningful for factors.)\n",
       "\n",
       "Only \\code{==} and \\code{!=} can be used for factors: a factor can\n",
       "only be compared to another factor with an identical set of levels\n",
       "(not necessarily in the same ordering) or to a character vector.\n",
       "Ordered factors are compared in the same way, but the general dispatch\n",
       "mechanism precludes comparing ordered and unordered factors.\n",
       "\n",
       "All the comparison operators are available for ordered factors.\n",
       "Collation is done by the levels of the operands: if both operands are\n",
       "ordered factors they must have the same level set.\n",
       "\\end{Section}\n",
       "%\n",
       "\\begin{Note}\\relax\n",
       "In earlier versions of \\R{}, storing character data as a factor was more\n",
       "space efficient if there is even a small proportion of\n",
       "repeats.  However, identical character strings now share storage, so\n",
       "the difference is small in most cases.  (Integer values are stored\n",
       "in 4 bytes whereas each reference to a character string needs a\n",
       "pointer of 4 or 8 bytes.)\n",
       "\\end{Note}\n",
       "%\n",
       "\\begin{References}\\relax\n",
       "Chambers, J. M. and Hastie, T. J. (1992)\n",
       "\\emph{Statistical Models in S}.\n",
       "Wadsworth \\& Brooks/Cole.\n",
       "\\end{References}\n",
       "%\n",
       "\\begin{SeeAlso}\\relax\n",
       "\\code{\\LinkA{[.factor}{[.factor}} for subsetting of factors.\n",
       "\n",
       "\\code{\\LinkA{gl}{gl}} for construction of balanced factors and\n",
       "\\code{\\LinkA{C}{C}} for factors with specified contrasts.\n",
       "\\code{\\LinkA{levels}{levels}} and \\code{\\LinkA{nlevels}{nlevels}} for accessing the\n",
       "levels, and \\code{\\LinkA{unclass}{unclass}} to get integer codes.\n",
       "\\end{SeeAlso}\n",
       "%\n",
       "\\begin{Examples}\n",
       "\\begin{ExampleCode}\n",
       "(ff <- factor(substring(\"statistics\", 1:10, 1:10), levels = letters))\n",
       "as.integer(ff)      # the internal codes\n",
       "(f. <- factor(ff))  # drops the levels that do not occur\n",
       "ff[, drop = TRUE]   # the same, more transparently\n",
       "\n",
       "factor(letters[1:20], labels = \"letter\")\n",
       "\n",
       "class(ordered(4:1)) # \"ordered\", inheriting from \"factor\"\n",
       "z <- factor(LETTERS[3:1], ordered = TRUE)\n",
       "## and \"relational\" methods work:\n",
       "stopifnot(sort(z)[c(1,3)] == range(z), min(z) < max(z))\n",
       "\n",
       "\n",
       "## suppose you want \"NA\" as a level, and to allow missing values.\n",
       "(x <- factor(c(1, 2, NA), exclude = NULL))\n",
       "is.na(x)[2] <- TRUE\n",
       "x  # [1] 1    <NA> <NA>\n",
       "is.na(x)\n",
       "# [1] FALSE  TRUE FALSE\n",
       "\n",
       "## More rational, since R 3.4.0 :\n",
       "factor(c(1:2, NA), exclude =  \"\" ) # keeps <NA> , as\n",
       "factor(c(1:2, NA), exclude = NULL) # always did\n",
       "## exclude = <character>\n",
       "z # ordered levels 'A < B < C'\n",
       "factor(z, exclude = \"C\") # does exclude\n",
       "factor(z, exclude = \"B\") # ditto\n",
       "\n",
       "## Now, labels maybe duplicated:\n",
       "## factor() with duplicated labels allowing to \"merge levels\"\n",
       "x <- c(\"Man\", \"Male\", \"Man\", \"Lady\", \"Female\")\n",
       "## Map from 4 different values to only two levels:\n",
       "(xf <- factor(x, levels = c(\"Male\", \"Man\" , \"Lady\",   \"Female\"),\n",
       "                 labels = c(\"Male\", \"Male\", \"Female\", \"Female\")))\n",
       "#> [1] Male   Male   Male   Female Female\n",
       "#> Levels: Male Female\n",
       "\n",
       "## Using addNA()\n",
       "Month <- airquality$Month\n",
       "table(addNA(Month))\n",
       "table(addNA(Month, ifany = TRUE))\n",
       "\\end{ExampleCode}\n",
       "\\end{Examples}"
      ],
      "text/plain": [
       "factor                  package:base                   R Documentation\n",
       "\n",
       "_\bF_\ba_\bc_\bt_\bo_\br_\bs\n",
       "\n",
       "_\bD_\be_\bs_\bc_\br_\bi_\bp_\bt_\bi_\bo_\bn:\n",
       "\n",
       "     The function ‘factor’ is used to encode a vector as a factor (the\n",
       "     terms ‘category’ and ‘enumerated type’ are also used for factors).\n",
       "     If argument ‘ordered’ is ‘TRUE’, the factor levels are assumed to\n",
       "     be ordered.  For compatibility with S there is also a function\n",
       "     ‘ordered’.\n",
       "\n",
       "     ‘is.factor’, ‘is.ordered’, ‘as.factor’ and ‘as.ordered’ are the\n",
       "     membership and coercion functions for these classes.\n",
       "\n",
       "_\bU_\bs_\ba_\bg_\be:\n",
       "\n",
       "     factor(x = character(), levels, labels = levels,\n",
       "            exclude = NA, ordered = is.ordered(x), nmax = NA)\n",
       "     \n",
       "     ordered(x, ...)\n",
       "     \n",
       "     is.factor(x)\n",
       "     is.ordered(x)\n",
       "     \n",
       "     as.factor(x)\n",
       "     as.ordered(x)\n",
       "     \n",
       "     addNA(x, ifany = FALSE)\n",
       "     \n",
       "_\bA_\br_\bg_\bu_\bm_\be_\bn_\bt_\bs:\n",
       "\n",
       "       x: a vector of data, usually taking a small number of distinct\n",
       "          values.\n",
       "\n",
       "  levels: an optional vector of the unique values (as character\n",
       "          strings) that ‘x’ might have taken.  The default is the\n",
       "          unique set of values taken by ‘as.character(x)’, sorted into\n",
       "          increasing order _of ‘x’_.  Note that this set can be\n",
       "          specified as smaller than ‘sort(unique(x))’.\n",
       "\n",
       "  labels: _either_ an optional character vector of labels for the\n",
       "          levels (in the same order as ‘levels’ after removing those in\n",
       "          ‘exclude’), _or_ a character string of length 1.  Duplicated\n",
       "          values in ‘labels’ can be used to map different values of ‘x’\n",
       "          to the same factor level.\n",
       "\n",
       " exclude: a vector of values to be excluded when forming the set of\n",
       "          levels.  This may be factor with the same level set as ‘x’ or\n",
       "          should be a ‘character’.\n",
       "\n",
       " ordered: logical flag to determine if the levels should be regarded as\n",
       "          ordered (in the order given).\n",
       "\n",
       "    nmax: an upper bound on the number of levels; see ‘Details’.\n",
       "\n",
       "     ...: (in ‘ordered(.)’): any of the above, apart from ‘ordered’\n",
       "          itself.\n",
       "\n",
       "   ifany: only add an ‘NA’ level if it is used, i.e.  if\n",
       "          ‘any(is.na(x))’.\n",
       "\n",
       "_\bD_\be_\bt_\ba_\bi_\bl_\bs:\n",
       "\n",
       "     The type of the vector ‘x’ is not restricted; it only must have an\n",
       "     ‘as.character’ method and be sortable (by ‘order’).\n",
       "\n",
       "     Ordered factors differ from factors only in their class, but\n",
       "     methods and the model-fitting functions treat the two classes\n",
       "     quite differently.\n",
       "\n",
       "     The encoding of the vector happens as follows.  First all the\n",
       "     values in ‘exclude’ are removed from ‘levels’. If ‘x[i]’ equals\n",
       "     ‘levels[j]’, then the ‘i’-th element of the result is ‘j’.  If no\n",
       "     match is found for ‘x[i]’ in ‘levels’ (which will happen for\n",
       "     excluded values) then the ‘i’-th element of the result is set to\n",
       "     ‘NA’.\n",
       "\n",
       "     Normally the ‘levels’ used as an attribute of the result are the\n",
       "     reduced set of levels after removing those in ‘exclude’, but this\n",
       "     can be altered by supplying ‘labels’.  This should either be a set\n",
       "     of new labels for the levels, or a character string, in which case\n",
       "     the levels are that character string with a sequence number\n",
       "     appended.\n",
       "\n",
       "     ‘factor(x, exclude = NULL)’ applied to a factor without ‘NA’s is a\n",
       "     no-operation unless there are unused levels: in that case, a\n",
       "     factor with the reduced level set is returned.  If ‘exclude’ is\n",
       "     used, since R version 3.4.0, excluding non-existing character\n",
       "     levels is equivalent to excluding nothing, and when ‘exclude’ is a\n",
       "     ‘character’ vector, that _is_ applied to the levels of ‘x’.\n",
       "     Alternatively, ‘exclude’ can be factor with the same level set as\n",
       "     ‘x’ and will exclude the levels present in ‘exclude’.\n",
       "\n",
       "     The codes of a factor may contain ‘NA’.  For a numeric ‘x’, set\n",
       "     ‘exclude = NULL’ to make ‘NA’ an extra level (prints as ‘<NA>’);\n",
       "     by default, this is the last level.\n",
       "\n",
       "     If ‘NA’ is a level, the way to set a code to be missing (as\n",
       "     opposed to the code of the missing level) is to use ‘is.na’ on the\n",
       "     left-hand-side of an assignment (as in ‘is.na(f)[i] <- TRUE’;\n",
       "     indexing inside ‘is.na’ does not work).  Under those circumstances\n",
       "     missing values are currently printed as ‘<NA>’, i.e., identical to\n",
       "     entries of level ‘NA’.\n",
       "\n",
       "     ‘is.factor’ is generic: you can write methods to handle specific\n",
       "     classes of objects, see InternalMethods.\n",
       "\n",
       "     Where ‘levels’ is not supplied, ‘unique’ is called.  Since factors\n",
       "     typically have quite a small number of levels, for large vectors\n",
       "     ‘x’ it is helpful to supply ‘nmax’ as an upper bound on the number\n",
       "     of unique values.\n",
       "\n",
       "_\bV_\ba_\bl_\bu_\be:\n",
       "\n",
       "     ‘factor’ returns an object of class ‘\"factor\"’ which has a set of\n",
       "     integer codes the length of ‘x’ with a ‘\"levels\"’ attribute of\n",
       "     mode ‘character’ and unique (‘!anyDuplicated(.)’) entries.  If\n",
       "     argument ‘ordered’ is true (or ‘ordered()’ is used) the result has\n",
       "     class ‘c(\"ordered\", \"factor\")’.  Undocumentedly for a long time,\n",
       "     ‘factor(x)’ loses all ‘attributes(x)’ but ‘\"names\"’, and resets\n",
       "     ‘\"levels\"’ and ‘\"class\"’.\n",
       "\n",
       "     Applying ‘factor’ to an ordered or unordered factor returns a\n",
       "     factor (of the same type) with just the levels which occur: see\n",
       "     also ‘[.factor’ for a more transparent way to achieve this.\n",
       "\n",
       "     ‘is.factor’ returns ‘TRUE’ or ‘FALSE’ depending on whether its\n",
       "     argument is of type factor or not.  Correspondingly, ‘is.ordered’\n",
       "     returns ‘TRUE’ when its argument is an ordered factor and ‘FALSE’\n",
       "     otherwise.\n",
       "\n",
       "     ‘as.factor’ coerces its argument to a factor.  It is an\n",
       "     abbreviated (sometimes faster) form of ‘factor’.\n",
       "\n",
       "     ‘as.ordered(x)’ returns ‘x’ if this is ordered, and ‘ordered(x)’\n",
       "     otherwise.\n",
       "\n",
       "     ‘addNA’ modifies a factor by turning ‘NA’ into an extra level (so\n",
       "     that ‘NA’ values are counted in tables, for instance).\n",
       "\n",
       "     ‘.valid.factor(object)’ checks the validity of a factor, currently\n",
       "     only ‘levels(object)’, and returns ‘TRUE’ if it is valid,\n",
       "     otherwise a string describing the validity problem.  This function\n",
       "     is used for ‘validObject(<factor>)’.\n",
       "\n",
       "_\bW_\ba_\br_\bn_\bi_\bn_\bg:\n",
       "\n",
       "     The interpretation of a factor depends on both the codes and the\n",
       "     ‘\"levels\"’ attribute.  Be careful only to compare factors with the\n",
       "     same set of levels (in the same order).  In particular,\n",
       "     ‘as.numeric’ applied to a factor is meaningless, and may happen by\n",
       "     implicit coercion.  To transform a factor ‘f’ to approximately its\n",
       "     original numeric values, ‘as.numeric(levels(f))[f]’ is recommended\n",
       "     and slightly more efficient than ‘as.numeric(as.character(f))’.\n",
       "\n",
       "     The levels of a factor are by default sorted, but the sort order\n",
       "     may well depend on the locale at the time of creation, and should\n",
       "     not be assumed to be ASCII.\n",
       "\n",
       "     There are some anomalies associated with factors that have ‘NA’ as\n",
       "     a level.  It is suggested to use them sparingly, e.g., only for\n",
       "     tabulation purposes.\n",
       "\n",
       "_\bC_\bo_\bm_\bp_\ba_\br_\bi_\bs_\bo_\bn _\bo_\bp_\be_\br_\ba_\bt_\bo_\br_\bs _\ba_\bn_\bd _\bg_\br_\bo_\bu_\bp _\bg_\be_\bn_\be_\br_\bi_\bc _\bm_\be_\bt_\bh_\bo_\bd_\bs:\n",
       "\n",
       "     There are ‘\"factor\"’ and ‘\"ordered\"’ methods for the group generic\n",
       "     ‘Ops’ which provide methods for the Comparison operators, and for\n",
       "     the ‘min’, ‘max’, and ‘range’ generics in ‘Summary’ of\n",
       "     ‘\"ordered\"’.  (The rest of the groups and the ‘Math’ group\n",
       "     generate an error as they are not meaningful for factors.)\n",
       "\n",
       "     Only ‘==’ and ‘!=’ can be used for factors: a factor can only be\n",
       "     compared to another factor with an identical set of levels (not\n",
       "     necessarily in the same ordering) or to a character vector.\n",
       "     Ordered factors are compared in the same way, but the general\n",
       "     dispatch mechanism precludes comparing ordered and unordered\n",
       "     factors.\n",
       "\n",
       "     All the comparison operators are available for ordered factors.\n",
       "     Collation is done by the levels of the operands: if both operands\n",
       "     are ordered factors they must have the same level set.\n",
       "\n",
       "_\bN_\bo_\bt_\be:\n",
       "\n",
       "     In earlier versions of R, storing character data as a factor was\n",
       "     more space efficient if there is even a small proportion of\n",
       "     repeats.  However, identical character strings now share storage,\n",
       "     so the difference is small in most cases.  (Integer values are\n",
       "     stored in 4 bytes whereas each reference to a character string\n",
       "     needs a pointer of 4 or 8 bytes.)\n",
       "\n",
       "_\bR_\be_\bf_\be_\br_\be_\bn_\bc_\be_\bs:\n",
       "\n",
       "     Chambers, J. M. and Hastie, T. J. (1992) _Statistical Models in\n",
       "     S_.  Wadsworth & Brooks/Cole.\n",
       "\n",
       "_\bS_\be_\be _\bA_\bl_\bs_\bo:\n",
       "\n",
       "     ‘[.factor’ for subsetting of factors.\n",
       "\n",
       "     ‘gl’ for construction of balanced factors and ‘C’ for factors with\n",
       "     specified contrasts.  ‘levels’ and ‘nlevels’ for accessing the\n",
       "     levels, and ‘unclass’ to get integer codes.\n",
       "\n",
       "_\bE_\bx_\ba_\bm_\bp_\bl_\be_\bs:\n",
       "\n",
       "     (ff <- factor(substring(\"statistics\", 1:10, 1:10), levels = letters))\n",
       "     as.integer(ff)      # the internal codes\n",
       "     (f. <- factor(ff))  # drops the levels that do not occur\n",
       "     ff[, drop = TRUE]   # the same, more transparently\n",
       "     \n",
       "     factor(letters[1:20], labels = \"letter\")\n",
       "     \n",
       "     class(ordered(4:1)) # \"ordered\", inheriting from \"factor\"\n",
       "     z <- factor(LETTERS[3:1], ordered = TRUE)\n",
       "     ## and \"relational\" methods work:\n",
       "     stopifnot(sort(z)[c(1,3)] == range(z), min(z) < max(z))\n",
       "     \n",
       "     \n",
       "     ## suppose you want \"NA\" as a level, and to allow missing values.\n",
       "     (x <- factor(c(1, 2, NA), exclude = NULL))\n",
       "     is.na(x)[2] <- TRUE\n",
       "     x  # [1] 1    <NA> <NA>\n",
       "     is.na(x)\n",
       "     # [1] FALSE  TRUE FALSE\n",
       "     \n",
       "     ## More rational, since R 3.4.0 :\n",
       "     factor(c(1:2, NA), exclude =  \"\" ) # keeps <NA> , as\n",
       "     factor(c(1:2, NA), exclude = NULL) # always did\n",
       "     ## exclude = <character>\n",
       "     z # ordered levels 'A < B < C'\n",
       "     factor(z, exclude = \"C\") # does exclude\n",
       "     factor(z, exclude = \"B\") # ditto\n",
       "     \n",
       "     ## Now, labels maybe duplicated:\n",
       "     ## factor() with duplicated labels allowing to \"merge levels\"\n",
       "     x <- c(\"Man\", \"Male\", \"Man\", \"Lady\", \"Female\")\n",
       "     ## Map from 4 different values to only two levels:\n",
       "     (xf <- factor(x, levels = c(\"Male\", \"Man\" , \"Lady\",   \"Female\"),\n",
       "                      labels = c(\"Male\", \"Male\", \"Female\", \"Female\")))\n",
       "     #> [1] Male   Male   Male   Female Female\n",
       "     #> Levels: Male Female\n",
       "     \n",
       "     ## Using addNA()\n",
       "     Month <- airquality$Month\n",
       "     table(addNA(Month))\n",
       "     table(addNA(Month, ifany = TRUE))\n",
       "     "
      ]
     },
     "metadata": {},
     "output_type": "display_data"
    }
   ],
   "source": [
    "?factor"
   ]
  },
  {
   "cell_type": "markdown",
   "metadata": {},
   "source": [
    "### What's a factor and why would you use it? (3)"
   ]
  },
  {
   "cell_type": "code",
   "execution_count": 61,
   "metadata": {},
   "outputs": [
    {
     "data": {
      "text/html": [
       "<ol class=list-inline>\n",
       "\t<li>Elephant</li>\n",
       "\t<li>Giraffe</li>\n",
       "\t<li>Donkey</li>\n",
       "\t<li>Horse</li>\n",
       "</ol>\n",
       "\n",
       "<details>\n",
       "\t<summary style=display:list-item;cursor:pointer>\n",
       "\t\t<strong>Levels</strong>:\n",
       "\t</summary>\n",
       "\t<ol class=list-inline>\n",
       "\t\t<li>'Donkey'</li>\n",
       "\t\t<li>'Elephant'</li>\n",
       "\t\t<li>'Giraffe'</li>\n",
       "\t\t<li>'Horse'</li>\n",
       "\t</ol>\n",
       "</details>"
      ],
      "text/latex": [
       "\\begin{enumerate*}\n",
       "\\item Elephant\n",
       "\\item Giraffe\n",
       "\\item Donkey\n",
       "\\item Horse\n",
       "\\end{enumerate*}\n",
       "\n",
       "\\emph{Levels}: \\begin{enumerate*}\n",
       "\\item 'Donkey'\n",
       "\\item 'Elephant'\n",
       "\\item 'Giraffe'\n",
       "\\item 'Horse'\n",
       "\\end{enumerate*}\n"
      ],
      "text/markdown": [
       "1. Elephant\n",
       "2. Giraffe\n",
       "3. Donkey\n",
       "4. Horse\n",
       "\n",
       "\n",
       "\n",
       "**Levels**: 1. 'Donkey'\n",
       "2. 'Elephant'\n",
       "3. 'Giraffe'\n",
       "4. 'Horse'\n",
       "\n",
       "\n"
      ],
      "text/plain": [
       "[1] Elephant Giraffe  Donkey   Horse   \n",
       "Levels: Donkey Elephant Giraffe Horse"
      ]
     },
     "metadata": {},
     "output_type": "display_data"
    },
    {
     "data": {
      "text/html": [
       "<ol class=list-inline>\n",
       "\t<li>High</li>\n",
       "\t<li>Low</li>\n",
       "\t<li>High</li>\n",
       "\t<li>Low</li>\n",
       "\t<li>Medium</li>\n",
       "</ol>\n",
       "\n",
       "<details>\n",
       "\t<summary style=display:list-item;cursor:pointer>\n",
       "\t\t<strong>Levels</strong>:\n",
       "\t</summary>\n",
       "\t<ol class=list-inline>\n",
       "\t\t<li>'Low'</li>\n",
       "\t\t<li>'Medium'</li>\n",
       "\t\t<li>'High'</li>\n",
       "\t</ol>\n",
       "</details>"
      ],
      "text/latex": [
       "\\begin{enumerate*}\n",
       "\\item High\n",
       "\\item Low\n",
       "\\item High\n",
       "\\item Low\n",
       "\\item Medium\n",
       "\\end{enumerate*}\n",
       "\n",
       "\\emph{Levels}: \\begin{enumerate*}\n",
       "\\item 'Low'\n",
       "\\item 'Medium'\n",
       "\\item 'High'\n",
       "\\end{enumerate*}\n"
      ],
      "text/markdown": [
       "1. High\n",
       "2. Low\n",
       "3. High\n",
       "4. Low\n",
       "5. Medium\n",
       "\n",
       "\n",
       "\n",
       "**Levels**: 1. 'Low'\n",
       "2. 'Medium'\n",
       "3. 'High'\n",
       "\n",
       "\n"
      ],
      "text/plain": [
       "[1] High   Low    High   Low    Medium\n",
       "Levels: Low < Medium < High"
      ]
     },
     "metadata": {},
     "output_type": "display_data"
    }
   ],
   "source": [
    "# Animals\n",
    "animals_vector <- c(\"Elephant\", \"Giraffe\", \"Donkey\", \"Horse\")\n",
    "factor_animals_vector <- factor(animals_vector)\n",
    "factor_animals_vector\n",
    "\n",
    "# Temperature\n",
    "temperature_vector <- c(\"High\", \"Low\", \"High\",\"Low\", \"Medium\")\n",
    "factor_temperature_vector <- factor(temperature_vector, order = TRUE, levels = c(\"Low\", \"Medium\", \"High\"))\n",
    "factor_temperature_vector"
   ]
  },
  {
   "cell_type": "markdown",
   "metadata": {},
   "source": [
    "### Factor levels"
   ]
  },
  {
   "cell_type": "code",
   "execution_count": 62,
   "metadata": {},
   "outputs": [
    {
     "data": {
      "text/html": [
       "<ol class=list-inline>\n",
       "\t<li>Male</li>\n",
       "\t<li>Female</li>\n",
       "\t<li>Female</li>\n",
       "\t<li>Male</li>\n",
       "\t<li>Male</li>\n",
       "</ol>\n",
       "\n",
       "<details>\n",
       "\t<summary style=display:list-item;cursor:pointer>\n",
       "\t\t<strong>Levels</strong>:\n",
       "\t</summary>\n",
       "\t<ol class=list-inline>\n",
       "\t\t<li>'Female'</li>\n",
       "\t\t<li>'Male'</li>\n",
       "\t</ol>\n",
       "</details>"
      ],
      "text/latex": [
       "\\begin{enumerate*}\n",
       "\\item Male\n",
       "\\item Female\n",
       "\\item Female\n",
       "\\item Male\n",
       "\\item Male\n",
       "\\end{enumerate*}\n",
       "\n",
       "\\emph{Levels}: \\begin{enumerate*}\n",
       "\\item 'Female'\n",
       "\\item 'Male'\n",
       "\\end{enumerate*}\n"
      ],
      "text/markdown": [
       "1. Male\n",
       "2. Female\n",
       "3. Female\n",
       "4. Male\n",
       "5. Male\n",
       "\n",
       "\n",
       "\n",
       "**Levels**: 1. 'Female'\n",
       "2. 'Male'\n",
       "\n",
       "\n"
      ],
      "text/plain": [
       "[1] Male   Female Female Male   Male  \n",
       "Levels: Female Male"
      ]
     },
     "metadata": {},
     "output_type": "display_data"
    }
   ],
   "source": [
    "# Code to build factor_survey_vector\n",
    "survey_vector <- c(\"M\", \"F\", \"F\", \"M\", \"M\")\n",
    "factor_survey_vector <- factor(survey_vector)\n",
    "\n",
    "# Specify the levels of factor_survey_vector\n",
    "levels(factor_survey_vector) <- c(\"Female\", \"Male\")\n",
    "\n",
    "factor_survey_vector"
   ]
  },
  {
   "cell_type": "markdown",
   "metadata": {},
   "source": [
    "### Summarizing a factor"
   ]
  },
  {
   "cell_type": "code",
   "execution_count": 63,
   "metadata": {},
   "outputs": [
    {
     "data": {
      "text/html": [
       "<ol class=list-inline>\n",
       "\t<li>Male</li>\n",
       "\t<li>Female</li>\n",
       "\t<li>Female</li>\n",
       "\t<li>Male</li>\n",
       "\t<li>Male</li>\n",
       "</ol>\n",
       "\n",
       "<details>\n",
       "\t<summary style=display:list-item;cursor:pointer>\n",
       "\t\t<strong>Levels</strong>:\n",
       "\t</summary>\n",
       "\t<ol class=list-inline>\n",
       "\t\t<li>'Female'</li>\n",
       "\t\t<li>'Male'</li>\n",
       "\t</ol>\n",
       "</details>"
      ],
      "text/latex": [
       "\\begin{enumerate*}\n",
       "\\item Male\n",
       "\\item Female\n",
       "\\item Female\n",
       "\\item Male\n",
       "\\item Male\n",
       "\\end{enumerate*}\n",
       "\n",
       "\\emph{Levels}: \\begin{enumerate*}\n",
       "\\item 'Female'\n",
       "\\item 'Male'\n",
       "\\end{enumerate*}\n"
      ],
      "text/markdown": [
       "1. Male\n",
       "2. Female\n",
       "3. Female\n",
       "4. Male\n",
       "5. Male\n",
       "\n",
       "\n",
       "\n",
       "**Levels**: 1. 'Female'\n",
       "2. 'Male'\n",
       "\n",
       "\n"
      ],
      "text/plain": [
       "[1] Male   Female Female Male   Male  \n",
       "Levels: Female Male"
      ]
     },
     "metadata": {},
     "output_type": "display_data"
    },
    {
     "data": {
      "text/plain": [
       "   Length     Class      Mode \n",
       "        5 character character "
      ]
     },
     "metadata": {},
     "output_type": "display_data"
    },
    {
     "data": {
      "text/html": [
       "<dl class=dl-horizontal>\n",
       "\t<dt>Female</dt>\n",
       "\t\t<dd>2</dd>\n",
       "\t<dt>Male</dt>\n",
       "\t\t<dd>3</dd>\n",
       "</dl>\n"
      ],
      "text/latex": [
       "\\begin{description*}\n",
       "\\item[Female] 2\n",
       "\\item[Male] 3\n",
       "\\end{description*}\n"
      ],
      "text/markdown": [
       "Female\n",
       ":   2Male\n",
       ":   3\n",
       "\n"
      ],
      "text/plain": [
       "Female   Male \n",
       "     2      3 "
      ]
     },
     "metadata": {},
     "output_type": "display_data"
    }
   ],
   "source": [
    "# Build factor_survey_vector with clean levels\n",
    "survey_vector <- c(\"M\", \"F\", \"F\", \"M\", \"M\")\n",
    "factor_survey_vector <- factor(survey_vector)\n",
    "levels(factor_survey_vector) <- c(\"Female\", \"Male\")\n",
    "factor_survey_vector\n",
    "\n",
    "# Generate summary for survey_vector\n",
    "summary(survey_vector)\n",
    "\n",
    "# Generate summary for factor_survey_vector\n",
    "summary(factor_survey_vector)"
   ]
  },
  {
   "cell_type": "markdown",
   "metadata": {},
   "source": [
    "### Battle of the sexes"
   ]
  },
  {
   "cell_type": "code",
   "execution_count": 64,
   "metadata": {},
   "outputs": [
    {
     "name": "stderr",
     "output_type": "stream",
     "text": [
      "Warning message in Ops.factor(male, female):\n",
      "“‘>’ not meaningful for factors”"
     ]
    },
    {
     "data": {
      "text/html": [
       "&lt;NA&gt;"
      ],
      "text/latex": [
       "<NA>"
      ],
      "text/markdown": [
       "&lt;NA&gt;"
      ],
      "text/plain": [
       "[1] NA"
      ]
     },
     "metadata": {},
     "output_type": "display_data"
    }
   ],
   "source": [
    "# Build factor_survey_vector with clean levels\n",
    "survey_vector <- c(\"M\", \"F\", \"F\", \"M\", \"M\")\n",
    "factor_survey_vector <- factor(survey_vector)\n",
    "levels(factor_survey_vector) <- c(\"Female\", \"Male\")\n",
    "\n",
    "# Male\n",
    "male <- factor_survey_vector[1]\n",
    "\n",
    "# Female\n",
    "female <- factor_survey_vector[2]\n",
    "\n",
    "# Battle of the sexes: Male 'larger' than female?\n",
    "male > female"
   ]
  },
  {
   "cell_type": "markdown",
   "metadata": {},
   "source": [
    "### Ordered factors"
   ]
  },
  {
   "cell_type": "code",
   "execution_count": 65,
   "metadata": {},
   "outputs": [],
   "source": [
    "# Create speed_vector\n",
    "speed_vector <- c(\"medium\", \"slow\", \"slow\", \"medium\", \"fast\")"
   ]
  },
  {
   "cell_type": "markdown",
   "metadata": {},
   "source": [
    "### Ordered factors (2)"
   ]
  },
  {
   "cell_type": "code",
   "execution_count": 66,
   "metadata": {},
   "outputs": [
    {
     "data": {
      "text/html": [
       "<ol class=list-inline>\n",
       "\t<li>medium</li>\n",
       "\t<li>slow</li>\n",
       "\t<li>slow</li>\n",
       "\t<li>medium</li>\n",
       "\t<li>fast</li>\n",
       "</ol>\n",
       "\n",
       "<details>\n",
       "\t<summary style=display:list-item;cursor:pointer>\n",
       "\t\t<strong>Levels</strong>:\n",
       "\t</summary>\n",
       "\t<ol class=list-inline>\n",
       "\t\t<li>'slow'</li>\n",
       "\t\t<li>'medium'</li>\n",
       "\t\t<li>'fast'</li>\n",
       "\t</ol>\n",
       "</details>"
      ],
      "text/latex": [
       "\\begin{enumerate*}\n",
       "\\item medium\n",
       "\\item slow\n",
       "\\item slow\n",
       "\\item medium\n",
       "\\item fast\n",
       "\\end{enumerate*}\n",
       "\n",
       "\\emph{Levels}: \\begin{enumerate*}\n",
       "\\item 'slow'\n",
       "\\item 'medium'\n",
       "\\item 'fast'\n",
       "\\end{enumerate*}\n"
      ],
      "text/markdown": [
       "1. medium\n",
       "2. slow\n",
       "3. slow\n",
       "4. medium\n",
       "5. fast\n",
       "\n",
       "\n",
       "\n",
       "**Levels**: 1. 'slow'\n",
       "2. 'medium'\n",
       "3. 'fast'\n",
       "\n",
       "\n"
      ],
      "text/plain": [
       "[1] medium slow   slow   medium fast  \n",
       "Levels: slow < medium < fast"
      ]
     },
     "metadata": {},
     "output_type": "display_data"
    },
    {
     "data": {
      "text/html": [
       "<dl class=dl-horizontal>\n",
       "\t<dt>slow</dt>\n",
       "\t\t<dd>2</dd>\n",
       "\t<dt>medium</dt>\n",
       "\t\t<dd>2</dd>\n",
       "\t<dt>fast</dt>\n",
       "\t\t<dd>1</dd>\n",
       "</dl>\n"
      ],
      "text/latex": [
       "\\begin{description*}\n",
       "\\item[slow] 2\n",
       "\\item[medium] 2\n",
       "\\item[fast] 1\n",
       "\\end{description*}\n"
      ],
      "text/markdown": [
       "slow\n",
       ":   2medium\n",
       ":   2fast\n",
       ":   1\n",
       "\n"
      ],
      "text/plain": [
       "  slow medium   fast \n",
       "     2      2      1 "
      ]
     },
     "metadata": {},
     "output_type": "display_data"
    }
   ],
   "source": [
    "# Create speed_vector\n",
    "speed_vector <- c(\"medium\", \"slow\", \"slow\", \"medium\", \"fast\")\n",
    "\n",
    "# Convert speed_vector to ordered factor vector\n",
    "factor_speed_vector <- factor(speed_vector, ordered=TRUE, levels=c(\"slow\", \"medium\", \"fast\"))\n",
    "\n",
    "# Print factor_speed_vector\n",
    "factor_speed_vector\n",
    "summary(factor_speed_vector)"
   ]
  },
  {
   "cell_type": "markdown",
   "metadata": {},
   "source": [
    "### Comparing ordered factors"
   ]
  },
  {
   "cell_type": "code",
   "execution_count": 67,
   "metadata": {},
   "outputs": [
    {
     "data": {
      "text/html": [
       "FALSE"
      ],
      "text/latex": [
       "FALSE"
      ],
      "text/markdown": [
       "FALSE"
      ],
      "text/plain": [
       "[1] FALSE"
      ]
     },
     "metadata": {},
     "output_type": "display_data"
    }
   ],
   "source": [
    "# Create factor_speed_vector\n",
    "speed_vector <- c(\"medium\", \"slow\", \"slow\", \"medium\", \"fast\")\n",
    "factor_speed_vector <- factor(speed_vector, ordered = TRUE, levels = c(\"slow\", \"medium\", \"fast\"))\n",
    "\n",
    "# Factor value for second data analyst\n",
    "da2 <- factor_speed_vector[2]\n",
    "\n",
    "# Factor value for fifth data analyst\n",
    "da5 <- factor_speed_vector[5]\n",
    "\n",
    "# Is data analyst 2 faster than data analyst 5?\n",
    "da2 > da5"
   ]
  },
  {
   "cell_type": "code",
   "execution_count": 68,
   "metadata": {},
   "outputs": [
    {
     "data": {
      "text/html": [
       "slow\n",
       "<details>\n",
       "\t<summary style=display:list-item;cursor:pointer>\n",
       "\t\t<strong>Levels</strong>:\n",
       "\t</summary>\n",
       "\t<ol class=list-inline>\n",
       "\t\t<li>'slow'</li>\n",
       "\t\t<li>'medium'</li>\n",
       "\t\t<li>'fast'</li>\n",
       "\t</ol>\n",
       "</details>"
      ],
      "text/latex": [
       "slow\n",
       "\\emph{Levels}: \\begin{enumerate*}\n",
       "\\item 'slow'\n",
       "\\item 'medium'\n",
       "\\item 'fast'\n",
       "\\end{enumerate*}\n"
      ],
      "text/markdown": [
       "slow\n",
       "**Levels**: 1. 'slow'\n",
       "2. 'medium'\n",
       "3. 'fast'\n",
       "\n",
       "\n"
      ],
      "text/plain": [
       "[1] slow\n",
       "Levels: slow < medium < fast"
      ]
     },
     "metadata": {},
     "output_type": "display_data"
    }
   ],
   "source": [
    "da2"
   ]
  },
  {
   "cell_type": "code",
   "execution_count": 69,
   "metadata": {},
   "outputs": [
    {
     "data": {
      "text/html": [
       "fast\n",
       "<details>\n",
       "\t<summary style=display:list-item;cursor:pointer>\n",
       "\t\t<strong>Levels</strong>:\n",
       "\t</summary>\n",
       "\t<ol class=list-inline>\n",
       "\t\t<li>'slow'</li>\n",
       "\t\t<li>'medium'</li>\n",
       "\t\t<li>'fast'</li>\n",
       "\t</ol>\n",
       "</details>"
      ],
      "text/latex": [
       "fast\n",
       "\\emph{Levels}: \\begin{enumerate*}\n",
       "\\item 'slow'\n",
       "\\item 'medium'\n",
       "\\item 'fast'\n",
       "\\end{enumerate*}\n"
      ],
      "text/markdown": [
       "fast\n",
       "**Levels**: 1. 'slow'\n",
       "2. 'medium'\n",
       "3. 'fast'\n",
       "\n",
       "\n"
      ],
      "text/plain": [
       "[1] fast\n",
       "Levels: slow < medium < fast"
      ]
     },
     "metadata": {},
     "output_type": "display_data"
    }
   ],
   "source": [
    "da5"
   ]
  },
  {
   "cell_type": "markdown",
   "metadata": {},
   "source": [
    "## Data frames"
   ]
  },
  {
   "cell_type": "markdown",
   "metadata": {},
   "source": [
    "### What's a data frame?"
   ]
  },
  {
   "cell_type": "code",
   "execution_count": 75,
   "metadata": {},
   "outputs": [
    {
     "data": {
      "text/html": [
       "<table>\n",
       "<thead><tr><th></th><th scope=col>mpg</th><th scope=col>cyl</th><th scope=col>disp</th><th scope=col>hp</th><th scope=col>drat</th><th scope=col>wt</th><th scope=col>qsec</th><th scope=col>vs</th><th scope=col>am</th><th scope=col>gear</th><th scope=col>carb</th></tr></thead>\n",
       "<tbody>\n",
       "\t<tr><th scope=row>Mazda RX4</th><td>21.0 </td><td>6    </td><td>160  </td><td>110  </td><td>3.90 </td><td>2.620</td><td>16.46</td><td>0    </td><td>1    </td><td>4    </td><td>4    </td></tr>\n",
       "\t<tr><th scope=row>Mazda RX4 Wag</th><td>21.0 </td><td>6    </td><td>160  </td><td>110  </td><td>3.90 </td><td>2.875</td><td>17.02</td><td>0    </td><td>1    </td><td>4    </td><td>4    </td></tr>\n",
       "\t<tr><th scope=row>Datsun 710</th><td>22.8 </td><td>4    </td><td>108  </td><td> 93  </td><td>3.85 </td><td>2.320</td><td>18.61</td><td>1    </td><td>1    </td><td>4    </td><td>1    </td></tr>\n",
       "\t<tr><th scope=row>Hornet 4 Drive</th><td>21.4 </td><td>6    </td><td>258  </td><td>110  </td><td>3.08 </td><td>3.215</td><td>19.44</td><td>1    </td><td>0    </td><td>3    </td><td>1    </td></tr>\n",
       "\t<tr><th scope=row>Hornet Sportabout</th><td>18.7 </td><td>8    </td><td>360  </td><td>175  </td><td>3.15 </td><td>3.440</td><td>17.02</td><td>0    </td><td>0    </td><td>3    </td><td>2    </td></tr>\n",
       "\t<tr><th scope=row>Valiant</th><td>18.1 </td><td>6    </td><td>225  </td><td>105  </td><td>2.76 </td><td>3.460</td><td>20.22</td><td>1    </td><td>0    </td><td>3    </td><td>1    </td></tr>\n",
       "</tbody>\n",
       "</table>\n"
      ],
      "text/latex": [
       "\\begin{tabular}{r|lllllllllll}\n",
       "  & mpg & cyl & disp & hp & drat & wt & qsec & vs & am & gear & carb\\\\\n",
       "\\hline\n",
       "\tMazda RX4 & 21.0  & 6     & 160   & 110   & 3.90  & 2.620 & 16.46 & 0     & 1     & 4     & 4    \\\\\n",
       "\tMazda RX4 Wag & 21.0  & 6     & 160   & 110   & 3.90  & 2.875 & 17.02 & 0     & 1     & 4     & 4    \\\\\n",
       "\tDatsun 710 & 22.8  & 4     & 108   &  93   & 3.85  & 2.320 & 18.61 & 1     & 1     & 4     & 1    \\\\\n",
       "\tHornet 4 Drive & 21.4  & 6     & 258   & 110   & 3.08  & 3.215 & 19.44 & 1     & 0     & 3     & 1    \\\\\n",
       "\tHornet Sportabout & 18.7  & 8     & 360   & 175   & 3.15  & 3.440 & 17.02 & 0     & 0     & 3     & 2    \\\\\n",
       "\tValiant & 18.1  & 6     & 225   & 105   & 2.76  & 3.460 & 20.22 & 1     & 0     & 3     & 1    \\\\\n",
       "\\end{tabular}\n"
      ],
      "text/markdown": [
       "\n",
       "| <!--/--> | mpg | cyl | disp | hp | drat | wt | qsec | vs | am | gear | carb | \n",
       "|---|---|---|---|---|---|\n",
       "| Mazda RX4 | 21.0  | 6     | 160   | 110   | 3.90  | 2.620 | 16.46 | 0     | 1     | 4     | 4     | \n",
       "| Mazda RX4 Wag | 21.0  | 6     | 160   | 110   | 3.90  | 2.875 | 17.02 | 0     | 1     | 4     | 4     | \n",
       "| Datsun 710 | 22.8  | 4     | 108   |  93   | 3.85  | 2.320 | 18.61 | 1     | 1     | 4     | 1     | \n",
       "| Hornet 4 Drive | 21.4  | 6     | 258   | 110   | 3.08  | 3.215 | 19.44 | 1     | 0     | 3     | 1     | \n",
       "| Hornet Sportabout | 18.7  | 8     | 360   | 175   | 3.15  | 3.440 | 17.02 | 0     | 0     | 3     | 2     | \n",
       "| Valiant | 18.1  | 6     | 225   | 105   | 2.76  | 3.460 | 20.22 | 1     | 0     | 3     | 1     | \n",
       "\n",
       "\n"
      ],
      "text/plain": [
       "                  mpg  cyl disp hp  drat wt    qsec  vs am gear carb\n",
       "Mazda RX4         21.0 6   160  110 3.90 2.620 16.46 0  1  4    4   \n",
       "Mazda RX4 Wag     21.0 6   160  110 3.90 2.875 17.02 0  1  4    4   \n",
       "Datsun 710        22.8 4   108   93 3.85 2.320 18.61 1  1  4    1   \n",
       "Hornet 4 Drive    21.4 6   258  110 3.08 3.215 19.44 1  0  3    1   \n",
       "Hornet Sportabout 18.7 8   360  175 3.15 3.440 17.02 0  0  3    2   \n",
       "Valiant           18.1 6   225  105 2.76 3.460 20.22 1  0  3    1   "
      ]
     },
     "metadata": {},
     "output_type": "display_data"
    }
   ],
   "source": [
    "# Call head() on mtcars\n",
    "head(mtcars)"
   ]
  },
  {
   "cell_type": "code",
   "execution_count": 77,
   "metadata": {},
   "outputs": [
    {
     "data": {
      "text/html": [
       "<table>\n",
       "<thead><tr><th></th><th scope=col>mpg</th><th scope=col>cyl</th><th scope=col>disp</th><th scope=col>hp</th><th scope=col>drat</th><th scope=col>wt</th><th scope=col>qsec</th><th scope=col>vs</th><th scope=col>am</th><th scope=col>gear</th><th scope=col>carb</th></tr></thead>\n",
       "<tbody>\n",
       "\t<tr><th scope=row>Porsche 914-2</th><td>26.0 </td><td>4    </td><td>120.3</td><td> 91  </td><td>4.43 </td><td>2.140</td><td>16.7 </td><td>0    </td><td>1    </td><td>5    </td><td>2    </td></tr>\n",
       "\t<tr><th scope=row>Lotus Europa</th><td>30.4 </td><td>4    </td><td> 95.1</td><td>113  </td><td>3.77 </td><td>1.513</td><td>16.9 </td><td>1    </td><td>1    </td><td>5    </td><td>2    </td></tr>\n",
       "\t<tr><th scope=row>Ford Pantera L</th><td>15.8 </td><td>8    </td><td>351.0</td><td>264  </td><td>4.22 </td><td>3.170</td><td>14.5 </td><td>0    </td><td>1    </td><td>5    </td><td>4    </td></tr>\n",
       "\t<tr><th scope=row>Ferrari Dino</th><td>19.7 </td><td>6    </td><td>145.0</td><td>175  </td><td>3.62 </td><td>2.770</td><td>15.5 </td><td>0    </td><td>1    </td><td>5    </td><td>6    </td></tr>\n",
       "\t<tr><th scope=row>Maserati Bora</th><td>15.0 </td><td>8    </td><td>301.0</td><td>335  </td><td>3.54 </td><td>3.570</td><td>14.6 </td><td>0    </td><td>1    </td><td>5    </td><td>8    </td></tr>\n",
       "\t<tr><th scope=row>Volvo 142E</th><td>21.4 </td><td>4    </td><td>121.0</td><td>109  </td><td>4.11 </td><td>2.780</td><td>18.6 </td><td>1    </td><td>1    </td><td>4    </td><td>2    </td></tr>\n",
       "</tbody>\n",
       "</table>\n"
      ],
      "text/latex": [
       "\\begin{tabular}{r|lllllllllll}\n",
       "  & mpg & cyl & disp & hp & drat & wt & qsec & vs & am & gear & carb\\\\\n",
       "\\hline\n",
       "\tPorsche 914-2 & 26.0  & 4     & 120.3 &  91   & 4.43  & 2.140 & 16.7  & 0     & 1     & 5     & 2    \\\\\n",
       "\tLotus Europa & 30.4  & 4     &  95.1 & 113   & 3.77  & 1.513 & 16.9  & 1     & 1     & 5     & 2    \\\\\n",
       "\tFord Pantera L & 15.8  & 8     & 351.0 & 264   & 4.22  & 3.170 & 14.5  & 0     & 1     & 5     & 4    \\\\\n",
       "\tFerrari Dino & 19.7  & 6     & 145.0 & 175   & 3.62  & 2.770 & 15.5  & 0     & 1     & 5     & 6    \\\\\n",
       "\tMaserati Bora & 15.0  & 8     & 301.0 & 335   & 3.54  & 3.570 & 14.6  & 0     & 1     & 5     & 8    \\\\\n",
       "\tVolvo 142E & 21.4  & 4     & 121.0 & 109   & 4.11  & 2.780 & 18.6  & 1     & 1     & 4     & 2    \\\\\n",
       "\\end{tabular}\n"
      ],
      "text/markdown": [
       "\n",
       "| <!--/--> | mpg | cyl | disp | hp | drat | wt | qsec | vs | am | gear | carb | \n",
       "|---|---|---|---|---|---|\n",
       "| Porsche 914-2 | 26.0  | 4     | 120.3 |  91   | 4.43  | 2.140 | 16.7  | 0     | 1     | 5     | 2     | \n",
       "| Lotus Europa | 30.4  | 4     |  95.1 | 113   | 3.77  | 1.513 | 16.9  | 1     | 1     | 5     | 2     | \n",
       "| Ford Pantera L | 15.8  | 8     | 351.0 | 264   | 4.22  | 3.170 | 14.5  | 0     | 1     | 5     | 4     | \n",
       "| Ferrari Dino | 19.7  | 6     | 145.0 | 175   | 3.62  | 2.770 | 15.5  | 0     | 1     | 5     | 6     | \n",
       "| Maserati Bora | 15.0  | 8     | 301.0 | 335   | 3.54  | 3.570 | 14.6  | 0     | 1     | 5     | 8     | \n",
       "| Volvo 142E | 21.4  | 4     | 121.0 | 109   | 4.11  | 2.780 | 18.6  | 1     | 1     | 4     | 2     | \n",
       "\n",
       "\n"
      ],
      "text/plain": [
       "               mpg  cyl disp  hp  drat wt    qsec vs am gear carb\n",
       "Porsche 914-2  26.0 4   120.3  91 4.43 2.140 16.7 0  1  5    2   \n",
       "Lotus Europa   30.4 4    95.1 113 3.77 1.513 16.9 1  1  5    2   \n",
       "Ford Pantera L 15.8 8   351.0 264 4.22 3.170 14.5 0  1  5    4   \n",
       "Ferrari Dino   19.7 6   145.0 175 3.62 2.770 15.5 0  1  5    6   \n",
       "Maserati Bora  15.0 8   301.0 335 3.54 3.570 14.6 0  1  5    8   \n",
       "Volvo 142E     21.4 4   121.0 109 4.11 2.780 18.6 1  1  4    2   "
      ]
     },
     "metadata": {},
     "output_type": "display_data"
    }
   ],
   "source": [
    "tail(mtcars)"
   ]
  },
  {
   "cell_type": "markdown",
   "metadata": {},
   "source": [
    "### Have a look at the structure\n"
   ]
  },
  {
   "cell_type": "code",
   "execution_count": 76,
   "metadata": {},
   "outputs": [
    {
     "name": "stdout",
     "output_type": "stream",
     "text": [
      "'data.frame':\t32 obs. of  11 variables:\n",
      " $ mpg : num  21 21 22.8 21.4 18.7 18.1 14.3 24.4 22.8 19.2 ...\n",
      " $ cyl : num  6 6 4 6 8 6 8 4 4 6 ...\n",
      " $ disp: num  160 160 108 258 360 ...\n",
      " $ hp  : num  110 110 93 110 175 105 245 62 95 123 ...\n",
      " $ drat: num  3.9 3.9 3.85 3.08 3.15 2.76 3.21 3.69 3.92 3.92 ...\n",
      " $ wt  : num  2.62 2.88 2.32 3.21 3.44 ...\n",
      " $ qsec: num  16.5 17 18.6 19.4 17 ...\n",
      " $ vs  : num  0 0 1 1 0 1 0 1 1 1 ...\n",
      " $ am  : num  1 1 1 0 0 0 0 0 0 0 ...\n",
      " $ gear: num  4 4 4 3 3 3 3 4 4 4 ...\n",
      " $ carb: num  4 4 1 1 2 1 4 2 2 4 ...\n"
     ]
    }
   ],
   "source": [
    "# Investigate the structure of mtcars\n",
    "str(mtcars)"
   ]
  },
  {
   "cell_type": "markdown",
   "metadata": {},
   "source": [
    "### Creating a data frame"
   ]
  },
  {
   "cell_type": "code",
   "execution_count": 78,
   "metadata": {},
   "outputs": [
    {
     "data": {
      "text/html": [
       "<table>\n",
       "<thead><tr><th scope=col>name</th><th scope=col>type</th><th scope=col>diameter</th><th scope=col>rotation</th><th scope=col>rings</th></tr></thead>\n",
       "<tbody>\n",
       "\t<tr><td>Mercury           </td><td>Terrestrial planet</td><td> 0.382            </td><td>  58.64           </td><td>FALSE             </td></tr>\n",
       "\t<tr><td>Venus             </td><td>Terrestrial planet</td><td> 0.949            </td><td>-243.02           </td><td>FALSE             </td></tr>\n",
       "\t<tr><td>Earth             </td><td>Terrestrial planet</td><td> 1.000            </td><td>   1.00           </td><td>FALSE             </td></tr>\n",
       "\t<tr><td>Mars              </td><td>Terrestrial planet</td><td> 0.532            </td><td>   1.03           </td><td>FALSE             </td></tr>\n",
       "\t<tr><td>Jupiter           </td><td>Gas giant         </td><td>11.209            </td><td>   0.41           </td><td> TRUE             </td></tr>\n",
       "\t<tr><td>Saturn            </td><td>Gas giant         </td><td> 9.449            </td><td>   0.43           </td><td> TRUE             </td></tr>\n",
       "\t<tr><td>Uranus            </td><td>Gas giant         </td><td> 4.007            </td><td>  -0.72           </td><td> TRUE             </td></tr>\n",
       "\t<tr><td>Neptune           </td><td>Gas giant         </td><td> 3.883            </td><td>   0.67           </td><td> TRUE             </td></tr>\n",
       "</tbody>\n",
       "</table>\n"
      ],
      "text/latex": [
       "\\begin{tabular}{r|lllll}\n",
       " name & type & diameter & rotation & rings\\\\\n",
       "\\hline\n",
       "\t Mercury            & Terrestrial planet &  0.382             &   58.64            & FALSE             \\\\\n",
       "\t Venus              & Terrestrial planet &  0.949             & -243.02            & FALSE             \\\\\n",
       "\t Earth              & Terrestrial planet &  1.000             &    1.00            & FALSE             \\\\\n",
       "\t Mars               & Terrestrial planet &  0.532             &    1.03            & FALSE             \\\\\n",
       "\t Jupiter            & Gas giant          & 11.209             &    0.41            &  TRUE             \\\\\n",
       "\t Saturn             & Gas giant          &  9.449             &    0.43            &  TRUE             \\\\\n",
       "\t Uranus             & Gas giant          &  4.007             &   -0.72            &  TRUE             \\\\\n",
       "\t Neptune            & Gas giant          &  3.883             &    0.67            &  TRUE             \\\\\n",
       "\\end{tabular}\n"
      ],
      "text/markdown": [
       "\n",
       "name | type | diameter | rotation | rings | \n",
       "|---|---|---|---|---|---|---|---|\n",
       "| Mercury            | Terrestrial planet |  0.382             |   58.64            | FALSE              | \n",
       "| Venus              | Terrestrial planet |  0.949             | -243.02            | FALSE              | \n",
       "| Earth              | Terrestrial planet |  1.000             |    1.00            | FALSE              | \n",
       "| Mars               | Terrestrial planet |  0.532             |    1.03            | FALSE              | \n",
       "| Jupiter            | Gas giant          | 11.209             |    0.41            |  TRUE              | \n",
       "| Saturn             | Gas giant          |  9.449             |    0.43            |  TRUE              | \n",
       "| Uranus             | Gas giant          |  4.007             |   -0.72            |  TRUE              | \n",
       "| Neptune            | Gas giant          |  3.883             |    0.67            |  TRUE              | \n",
       "\n",
       "\n"
      ],
      "text/plain": [
       "  name    type               diameter rotation rings\n",
       "1 Mercury Terrestrial planet  0.382     58.64  FALSE\n",
       "2 Venus   Terrestrial planet  0.949   -243.02  FALSE\n",
       "3 Earth   Terrestrial planet  1.000      1.00  FALSE\n",
       "4 Mars    Terrestrial planet  0.532      1.03  FALSE\n",
       "5 Jupiter Gas giant          11.209      0.41   TRUE\n",
       "6 Saturn  Gas giant           9.449      0.43   TRUE\n",
       "7 Uranus  Gas giant           4.007     -0.72   TRUE\n",
       "8 Neptune Gas giant           3.883      0.67   TRUE"
      ]
     },
     "metadata": {},
     "output_type": "display_data"
    }
   ],
   "source": [
    "# Definition of vectors\n",
    "name <- c(\"Mercury\", \"Venus\", \"Earth\", \"Mars\", \"Jupiter\", \"Saturn\", \"Uranus\", \"Neptune\")\n",
    "type <- c(\"Terrestrial planet\", \"Terrestrial planet\", \"Terrestrial planet\", \n",
    "          \"Terrestrial planet\", \"Gas giant\", \"Gas giant\", \"Gas giant\", \"Gas giant\")\n",
    "diameter <- c(0.382, 0.949, 1, 0.532, 11.209, 9.449, 4.007, 3.883)\n",
    "rotation <- c(58.64, -243.02, 1, 1.03, 0.41, 0.43, -0.72, 0.67)\n",
    "rings <- c(FALSE, FALSE, FALSE, FALSE, TRUE, TRUE, TRUE, TRUE)\n",
    "\n",
    "# Create a data frame from the vectors\n",
    "planets_df <- data.frame(name, type, diameter, rotation, rings)\n",
    "planets_df"
   ]
  },
  {
   "cell_type": "markdown",
   "metadata": {},
   "source": [
    "### Creating a data frame (2)"
   ]
  },
  {
   "cell_type": "code",
   "execution_count": 79,
   "metadata": {},
   "outputs": [
    {
     "name": "stdout",
     "output_type": "stream",
     "text": [
      "'data.frame':\t8 obs. of  5 variables:\n",
      " $ name    : Factor w/ 8 levels \"Earth\",\"Jupiter\",..: 4 8 1 3 2 6 7 5\n",
      " $ type    : Factor w/ 2 levels \"Gas giant\",\"Terrestrial planet\": 2 2 2 2 1 1 1 1\n",
      " $ diameter: num  0.382 0.949 1 0.532 11.209 ...\n",
      " $ rotation: num  58.64 -243.02 1 1.03 0.41 ...\n",
      " $ rings   : logi  FALSE FALSE FALSE FALSE TRUE TRUE ...\n"
     ]
    }
   ],
   "source": [
    "# Check the structure of planets_df\n",
    "str(planets_df)"
   ]
  },
  {
   "cell_type": "markdown",
   "metadata": {},
   "source": [
    "### Selection of data frame elements"
   ]
  },
  {
   "cell_type": "code",
   "execution_count": 80,
   "metadata": {},
   "outputs": [
    {
     "data": {
      "text/html": [
       "0.382"
      ],
      "text/latex": [
       "0.382"
      ],
      "text/markdown": [
       "0.382"
      ],
      "text/plain": [
       "[1] 0.382"
      ]
     },
     "metadata": {},
     "output_type": "display_data"
    },
    {
     "data": {
      "text/html": [
       "<table>\n",
       "<thead><tr><th></th><th scope=col>name</th><th scope=col>type</th><th scope=col>diameter</th><th scope=col>rotation</th><th scope=col>rings</th></tr></thead>\n",
       "<tbody>\n",
       "\t<tr><th scope=row>4</th><td>Mars              </td><td>Terrestrial planet</td><td>0.532             </td><td>1.03              </td><td>FALSE             </td></tr>\n",
       "</tbody>\n",
       "</table>\n"
      ],
      "text/latex": [
       "\\begin{tabular}{r|lllll}\n",
       "  & name & type & diameter & rotation & rings\\\\\n",
       "\\hline\n",
       "\t4 & Mars               & Terrestrial planet & 0.532              & 1.03               & FALSE             \\\\\n",
       "\\end{tabular}\n"
      ],
      "text/markdown": [
       "\n",
       "| <!--/--> | name | type | diameter | rotation | rings | \n",
       "|---|\n",
       "| 4 | Mars               | Terrestrial planet | 0.532              | 1.03               | FALSE              | \n",
       "\n",
       "\n"
      ],
      "text/plain": [
       "  name type               diameter rotation rings\n",
       "4 Mars Terrestrial planet 0.532    1.03     FALSE"
      ]
     },
     "metadata": {},
     "output_type": "display_data"
    }
   ],
   "source": [
    "# The planets_df data frame from the previous exercise is pre-loaded\n",
    "\n",
    "# Print out diameter of Mercury (row 1, column 3)\n",
    "planets_df[1,3]\n",
    "\n",
    "# Print out data for Mars (entire fourth row)\n",
    "planets_df[4,]"
   ]
  },
  {
   "cell_type": "markdown",
   "metadata": {},
   "source": [
    "### Selection of data frame elements (2)"
   ]
  },
  {
   "cell_type": "code",
   "execution_count": 82,
   "metadata": {},
   "outputs": [
    {
     "data": {
      "text/html": [
       "<ol class=list-inline>\n",
       "\t<li>0.382</li>\n",
       "\t<li>0.949</li>\n",
       "\t<li>1</li>\n",
       "\t<li>0.532</li>\n",
       "\t<li>11.209</li>\n",
       "</ol>\n"
      ],
      "text/latex": [
       "\\begin{enumerate*}\n",
       "\\item 0.382\n",
       "\\item 0.949\n",
       "\\item 1\n",
       "\\item 0.532\n",
       "\\item 11.209\n",
       "\\end{enumerate*}\n"
      ],
      "text/markdown": [
       "1. 0.382\n",
       "2. 0.949\n",
       "3. 1\n",
       "4. 0.532\n",
       "5. 11.209\n",
       "\n",
       "\n"
      ],
      "text/plain": [
       "[1]  0.382  0.949  1.000  0.532 11.209"
      ]
     },
     "metadata": {},
     "output_type": "display_data"
    }
   ],
   "source": [
    "# The planets_df data frame from the previous exercise is pre-loaded\n",
    "\n",
    "# Select first 5 values of diameter column\n",
    "planets_df[1:5, \"diameter\"]"
   ]
  },
  {
   "cell_type": "markdown",
   "metadata": {},
   "source": [
    "### Only planets with rings"
   ]
  },
  {
   "cell_type": "code",
   "execution_count": 83,
   "metadata": {},
   "outputs": [
    {
     "data": {
      "text/html": [
       "<ol class=list-inline>\n",
       "\t<li>FALSE</li>\n",
       "\t<li>FALSE</li>\n",
       "\t<li>FALSE</li>\n",
       "\t<li>FALSE</li>\n",
       "\t<li>TRUE</li>\n",
       "\t<li>TRUE</li>\n",
       "\t<li>TRUE</li>\n",
       "\t<li>TRUE</li>\n",
       "</ol>\n"
      ],
      "text/latex": [
       "\\begin{enumerate*}\n",
       "\\item FALSE\n",
       "\\item FALSE\n",
       "\\item FALSE\n",
       "\\item FALSE\n",
       "\\item TRUE\n",
       "\\item TRUE\n",
       "\\item TRUE\n",
       "\\item TRUE\n",
       "\\end{enumerate*}\n"
      ],
      "text/markdown": [
       "1. FALSE\n",
       "2. FALSE\n",
       "3. FALSE\n",
       "4. FALSE\n",
       "5. TRUE\n",
       "6. TRUE\n",
       "7. TRUE\n",
       "8. TRUE\n",
       "\n",
       "\n"
      ],
      "text/plain": [
       "[1] FALSE FALSE FALSE FALSE  TRUE  TRUE  TRUE  TRUE"
      ]
     },
     "metadata": {},
     "output_type": "display_data"
    }
   ],
   "source": [
    "# planets_df is pre-loaded in your workspace\n",
    "\n",
    "# Select the rings variable from planets_df\n",
    "rings_vector <- planets_df$rings\n",
    "  \n",
    "# Print out rings_vector\n",
    "rings_vector"
   ]
  },
  {
   "cell_type": "markdown",
   "metadata": {},
   "source": [
    "### Only planets with rings (2)"
   ]
  },
  {
   "cell_type": "code",
   "execution_count": 84,
   "metadata": {},
   "outputs": [
    {
     "data": {
      "text/html": [
       "<ol class=list-inline>\n",
       "\t<li>Jupiter</li>\n",
       "\t<li>Saturn</li>\n",
       "\t<li>Uranus</li>\n",
       "\t<li>Neptune</li>\n",
       "</ol>\n",
       "\n",
       "<details>\n",
       "\t<summary style=display:list-item;cursor:pointer>\n",
       "\t\t<strong>Levels</strong>:\n",
       "\t</summary>\n",
       "\t<ol class=list-inline>\n",
       "\t\t<li>'Earth'</li>\n",
       "\t\t<li>'Jupiter'</li>\n",
       "\t\t<li>'Mars'</li>\n",
       "\t\t<li>'Mercury'</li>\n",
       "\t\t<li>'Neptune'</li>\n",
       "\t\t<li>'Saturn'</li>\n",
       "\t\t<li>'Uranus'</li>\n",
       "\t\t<li>'Venus'</li>\n",
       "\t</ol>\n",
       "</details>"
      ],
      "text/latex": [
       "\\begin{enumerate*}\n",
       "\\item Jupiter\n",
       "\\item Saturn\n",
       "\\item Uranus\n",
       "\\item Neptune\n",
       "\\end{enumerate*}\n",
       "\n",
       "\\emph{Levels}: \\begin{enumerate*}\n",
       "\\item 'Earth'\n",
       "\\item 'Jupiter'\n",
       "\\item 'Mars'\n",
       "\\item 'Mercury'\n",
       "\\item 'Neptune'\n",
       "\\item 'Saturn'\n",
       "\\item 'Uranus'\n",
       "\\item 'Venus'\n",
       "\\end{enumerate*}\n"
      ],
      "text/markdown": [
       "1. Jupiter\n",
       "2. Saturn\n",
       "3. Uranus\n",
       "4. Neptune\n",
       "\n",
       "\n",
       "\n",
       "**Levels**: 1. 'Earth'\n",
       "2. 'Jupiter'\n",
       "3. 'Mars'\n",
       "4. 'Mercury'\n",
       "5. 'Neptune'\n",
       "6. 'Saturn'\n",
       "7. 'Uranus'\n",
       "8. 'Venus'\n",
       "\n",
       "\n"
      ],
      "text/plain": [
       "[1] Jupiter Saturn  Uranus  Neptune\n",
       "Levels: Earth Jupiter Mars Mercury Neptune Saturn Uranus Venus"
      ]
     },
     "metadata": {},
     "output_type": "display_data"
    }
   ],
   "source": [
    "# planets_df and rings_vector are pre-loaded in your workspace\n",
    "\n",
    "# Adapt the code to select the name column for planets with rings\n",
    "planets_df[rings_vector, \"name\"]"
   ]
  },
  {
   "cell_type": "code",
   "execution_count": 85,
   "metadata": {},
   "outputs": [
    {
     "data": {
      "text/html": [
       "<table>\n",
       "<thead><tr><th></th><th scope=col>name</th><th scope=col>type</th><th scope=col>diameter</th><th scope=col>rotation</th><th scope=col>rings</th></tr></thead>\n",
       "<tbody>\n",
       "\t<tr><th scope=row>5</th><td>Jupiter  </td><td>Gas giant</td><td>11.209   </td><td> 0.41    </td><td>TRUE     </td></tr>\n",
       "\t<tr><th scope=row>6</th><td>Saturn   </td><td>Gas giant</td><td> 9.449   </td><td> 0.43    </td><td>TRUE     </td></tr>\n",
       "\t<tr><th scope=row>7</th><td>Uranus   </td><td>Gas giant</td><td> 4.007   </td><td>-0.72    </td><td>TRUE     </td></tr>\n",
       "\t<tr><th scope=row>8</th><td>Neptune  </td><td>Gas giant</td><td> 3.883   </td><td> 0.67    </td><td>TRUE     </td></tr>\n",
       "</tbody>\n",
       "</table>\n"
      ],
      "text/latex": [
       "\\begin{tabular}{r|lllll}\n",
       "  & name & type & diameter & rotation & rings\\\\\n",
       "\\hline\n",
       "\t5 & Jupiter   & Gas giant & 11.209    &  0.41     & TRUE     \\\\\n",
       "\t6 & Saturn    & Gas giant &  9.449    &  0.43     & TRUE     \\\\\n",
       "\t7 & Uranus    & Gas giant &  4.007    & -0.72     & TRUE     \\\\\n",
       "\t8 & Neptune   & Gas giant &  3.883    &  0.67     & TRUE     \\\\\n",
       "\\end{tabular}\n"
      ],
      "text/markdown": [
       "\n",
       "| <!--/--> | name | type | diameter | rotation | rings | \n",
       "|---|---|---|---|\n",
       "| 5 | Jupiter   | Gas giant | 11.209    |  0.41     | TRUE      | \n",
       "| 6 | Saturn    | Gas giant |  9.449    |  0.43     | TRUE      | \n",
       "| 7 | Uranus    | Gas giant |  4.007    | -0.72     | TRUE      | \n",
       "| 8 | Neptune   | Gas giant |  3.883    |  0.67     | TRUE      | \n",
       "\n",
       "\n"
      ],
      "text/plain": [
       "  name    type      diameter rotation rings\n",
       "5 Jupiter Gas giant 11.209    0.41    TRUE \n",
       "6 Saturn  Gas giant  9.449    0.43    TRUE \n",
       "7 Uranus  Gas giant  4.007   -0.72    TRUE \n",
       "8 Neptune Gas giant  3.883    0.67    TRUE "
      ]
     },
     "metadata": {},
     "output_type": "display_data"
    }
   ],
   "source": [
    "# Adapt the code to select all columns for planets with rings\n",
    "planets_df[rings_vector, ]"
   ]
  },
  {
   "cell_type": "markdown",
   "metadata": {},
   "source": [
    "### Only planets with rings but shorter"
   ]
  },
  {
   "cell_type": "code",
   "execution_count": 87,
   "metadata": {},
   "outputs": [
    {
     "data": {
      "text/html": [
       "<table>\n",
       "<thead><tr><th></th><th scope=col>name</th><th scope=col>type</th><th scope=col>diameter</th><th scope=col>rotation</th><th scope=col>rings</th></tr></thead>\n",
       "<tbody>\n",
       "\t<tr><th scope=row>1</th><td>Mercury           </td><td>Terrestrial planet</td><td>0.382             </td><td>  58.64           </td><td>FALSE             </td></tr>\n",
       "\t<tr><th scope=row>2</th><td>Venus             </td><td>Terrestrial planet</td><td>0.949             </td><td>-243.02           </td><td>FALSE             </td></tr>\n",
       "\t<tr><th scope=row>4</th><td>Mars              </td><td>Terrestrial planet</td><td>0.532             </td><td>   1.03           </td><td>FALSE             </td></tr>\n",
       "</tbody>\n",
       "</table>\n"
      ],
      "text/latex": [
       "\\begin{tabular}{r|lllll}\n",
       "  & name & type & diameter & rotation & rings\\\\\n",
       "\\hline\n",
       "\t1 & Mercury            & Terrestrial planet & 0.382              &   58.64            & FALSE             \\\\\n",
       "\t2 & Venus              & Terrestrial planet & 0.949              & -243.02            & FALSE             \\\\\n",
       "\t4 & Mars               & Terrestrial planet & 0.532              &    1.03            & FALSE             \\\\\n",
       "\\end{tabular}\n"
      ],
      "text/markdown": [
       "\n",
       "| <!--/--> | name | type | diameter | rotation | rings | \n",
       "|---|---|---|\n",
       "| 1 | Mercury            | Terrestrial planet | 0.382              |   58.64            | FALSE              | \n",
       "| 2 | Venus              | Terrestrial planet | 0.949              | -243.02            | FALSE              | \n",
       "| 4 | Mars               | Terrestrial planet | 0.532              |    1.03            | FALSE              | \n",
       "\n",
       "\n"
      ],
      "text/plain": [
       "  name    type               diameter rotation rings\n",
       "1 Mercury Terrestrial planet 0.382      58.64  FALSE\n",
       "2 Venus   Terrestrial planet 0.949    -243.02  FALSE\n",
       "4 Mars    Terrestrial planet 0.532       1.03  FALSE"
      ]
     },
     "metadata": {},
     "output_type": "display_data"
    }
   ],
   "source": [
    "# planets_df is pre-loaded in your workspace\n",
    "\n",
    "# Select planets with diameter < 1\n",
    "subset(planets_df, diameter < 1)"
   ]
  },
  {
   "cell_type": "markdown",
   "metadata": {},
   "source": [
    "### Sorting your data frame"
   ]
  },
  {
   "cell_type": "code",
   "execution_count": 88,
   "metadata": {},
   "outputs": [
    {
     "data": {
      "text/html": [
       "<table>\n",
       "<thead><tr><th></th><th scope=col>name</th><th scope=col>type</th><th scope=col>diameter</th><th scope=col>rotation</th><th scope=col>rings</th></tr></thead>\n",
       "<tbody>\n",
       "\t<tr><th scope=row>1</th><td>Mercury           </td><td>Terrestrial planet</td><td> 0.382            </td><td>  58.64           </td><td>FALSE             </td></tr>\n",
       "\t<tr><th scope=row>4</th><td>Mars              </td><td>Terrestrial planet</td><td> 0.532            </td><td>   1.03           </td><td>FALSE             </td></tr>\n",
       "\t<tr><th scope=row>2</th><td>Venus             </td><td>Terrestrial planet</td><td> 0.949            </td><td>-243.02           </td><td>FALSE             </td></tr>\n",
       "\t<tr><th scope=row>3</th><td>Earth             </td><td>Terrestrial planet</td><td> 1.000            </td><td>   1.00           </td><td>FALSE             </td></tr>\n",
       "\t<tr><th scope=row>8</th><td>Neptune           </td><td>Gas giant         </td><td> 3.883            </td><td>   0.67           </td><td> TRUE             </td></tr>\n",
       "\t<tr><th scope=row>7</th><td>Uranus            </td><td>Gas giant         </td><td> 4.007            </td><td>  -0.72           </td><td> TRUE             </td></tr>\n",
       "\t<tr><th scope=row>6</th><td>Saturn            </td><td>Gas giant         </td><td> 9.449            </td><td>   0.43           </td><td> TRUE             </td></tr>\n",
       "\t<tr><th scope=row>5</th><td>Jupiter           </td><td>Gas giant         </td><td>11.209            </td><td>   0.41           </td><td> TRUE             </td></tr>\n",
       "</tbody>\n",
       "</table>\n"
      ],
      "text/latex": [
       "\\begin{tabular}{r|lllll}\n",
       "  & name & type & diameter & rotation & rings\\\\\n",
       "\\hline\n",
       "\t1 & Mercury            & Terrestrial planet &  0.382             &   58.64            & FALSE             \\\\\n",
       "\t4 & Mars               & Terrestrial planet &  0.532             &    1.03            & FALSE             \\\\\n",
       "\t2 & Venus              & Terrestrial planet &  0.949             & -243.02            & FALSE             \\\\\n",
       "\t3 & Earth              & Terrestrial planet &  1.000             &    1.00            & FALSE             \\\\\n",
       "\t8 & Neptune            & Gas giant          &  3.883             &    0.67            &  TRUE             \\\\\n",
       "\t7 & Uranus             & Gas giant          &  4.007             &   -0.72            &  TRUE             \\\\\n",
       "\t6 & Saturn             & Gas giant          &  9.449             &    0.43            &  TRUE             \\\\\n",
       "\t5 & Jupiter            & Gas giant          & 11.209             &    0.41            &  TRUE             \\\\\n",
       "\\end{tabular}\n"
      ],
      "text/markdown": [
       "\n",
       "| <!--/--> | name | type | diameter | rotation | rings | \n",
       "|---|---|---|---|---|---|---|---|\n",
       "| 1 | Mercury            | Terrestrial planet |  0.382             |   58.64            | FALSE              | \n",
       "| 4 | Mars               | Terrestrial planet |  0.532             |    1.03            | FALSE              | \n",
       "| 2 | Venus              | Terrestrial planet |  0.949             | -243.02            | FALSE              | \n",
       "| 3 | Earth              | Terrestrial planet |  1.000             |    1.00            | FALSE              | \n",
       "| 8 | Neptune            | Gas giant          |  3.883             |    0.67            |  TRUE              | \n",
       "| 7 | Uranus             | Gas giant          |  4.007             |   -0.72            |  TRUE              | \n",
       "| 6 | Saturn             | Gas giant          |  9.449             |    0.43            |  TRUE              | \n",
       "| 5 | Jupiter            | Gas giant          | 11.209             |    0.41            |  TRUE              | \n",
       "\n",
       "\n"
      ],
      "text/plain": [
       "  name    type               diameter rotation rings\n",
       "1 Mercury Terrestrial planet  0.382     58.64  FALSE\n",
       "4 Mars    Terrestrial planet  0.532      1.03  FALSE\n",
       "2 Venus   Terrestrial planet  0.949   -243.02  FALSE\n",
       "3 Earth   Terrestrial planet  1.000      1.00  FALSE\n",
       "8 Neptune Gas giant           3.883      0.67   TRUE\n",
       "7 Uranus  Gas giant           4.007     -0.72   TRUE\n",
       "6 Saturn  Gas giant           9.449      0.43   TRUE\n",
       "5 Jupiter Gas giant          11.209      0.41   TRUE"
      ]
     },
     "metadata": {},
     "output_type": "display_data"
    }
   ],
   "source": [
    "# planets_df is pre-loaded in your workspace\n",
    "\n",
    "# Use order() to create positions\n",
    "positions <- order(planets_df$diameter)\n",
    "\n",
    "# Use positions to sort planets_df\n",
    "planets_df[positions, ]"
   ]
  },
  {
   "cell_type": "code",
   "execution_count": 89,
   "metadata": {},
   "outputs": [
    {
     "data": {
      "text/html": [
       "<ol class=list-inline>\n",
       "\t<li>1</li>\n",
       "\t<li>4</li>\n",
       "\t<li>2</li>\n",
       "\t<li>3</li>\n",
       "\t<li>8</li>\n",
       "\t<li>7</li>\n",
       "\t<li>6</li>\n",
       "\t<li>5</li>\n",
       "</ol>\n"
      ],
      "text/latex": [
       "\\begin{enumerate*}\n",
       "\\item 1\n",
       "\\item 4\n",
       "\\item 2\n",
       "\\item 3\n",
       "\\item 8\n",
       "\\item 7\n",
       "\\item 6\n",
       "\\item 5\n",
       "\\end{enumerate*}\n"
      ],
      "text/markdown": [
       "1. 1\n",
       "2. 4\n",
       "3. 2\n",
       "4. 3\n",
       "5. 8\n",
       "6. 7\n",
       "7. 6\n",
       "8. 5\n",
       "\n",
       "\n"
      ],
      "text/plain": [
       "[1] 1 4 2 3 8 7 6 5"
      ]
     },
     "metadata": {},
     "output_type": "display_data"
    }
   ],
   "source": [
    "positions"
   ]
  },
  {
   "cell_type": "markdown",
   "metadata": {},
   "source": [
    "## Lists"
   ]
  },
  {
   "cell_type": "markdown",
   "metadata": {},
   "source": [
    "### Creating a list"
   ]
  },
  {
   "cell_type": "code",
   "execution_count": 90,
   "metadata": {},
   "outputs": [],
   "source": [
    "# Vector with numerics from 1 up to 10\n",
    "my_vector <- 1:10 \n",
    "\n",
    "# Matrix with numerics from 1 up to 9\n",
    "my_matrix <- matrix(1:9, ncol = 3)\n",
    "\n",
    "# First 10 elements of the built-in data frame mtcars\n",
    "my_df <- mtcars[1:10,]\n",
    "\n",
    "# Construct list with these different elements:\n",
    "my_list <- list(my_vector, my_matrix, my_df)"
   ]
  },
  {
   "cell_type": "code",
   "execution_count": 91,
   "metadata": {},
   "outputs": [
    {
     "data": {
      "text/html": [
       "<ol>\n",
       "\t<li><ol class=list-inline>\n",
       "\t<li>1</li>\n",
       "\t<li>2</li>\n",
       "\t<li>3</li>\n",
       "\t<li>4</li>\n",
       "\t<li>5</li>\n",
       "\t<li>6</li>\n",
       "\t<li>7</li>\n",
       "\t<li>8</li>\n",
       "\t<li>9</li>\n",
       "\t<li>10</li>\n",
       "</ol>\n",
       "</li>\n",
       "\t<li><table>\n",
       "<tbody>\n",
       "\t<tr><td>1</td><td>4</td><td>7</td></tr>\n",
       "\t<tr><td>2</td><td>5</td><td>8</td></tr>\n",
       "\t<tr><td>3</td><td>6</td><td>9</td></tr>\n",
       "</tbody>\n",
       "</table>\n",
       "</li>\n",
       "\t<li><table>\n",
       "<thead><tr><th></th><th scope=col>mpg</th><th scope=col>cyl</th><th scope=col>disp</th><th scope=col>hp</th><th scope=col>drat</th><th scope=col>wt</th><th scope=col>qsec</th><th scope=col>vs</th><th scope=col>am</th><th scope=col>gear</th><th scope=col>carb</th></tr></thead>\n",
       "<tbody>\n",
       "\t<tr><th scope=row>Mazda RX4</th><td>21.0 </td><td>6    </td><td>160.0</td><td>110  </td><td>3.90 </td><td>2.620</td><td>16.46</td><td>0    </td><td>1    </td><td>4    </td><td>4    </td></tr>\n",
       "\t<tr><th scope=row>Mazda RX4 Wag</th><td>21.0 </td><td>6    </td><td>160.0</td><td>110  </td><td>3.90 </td><td>2.875</td><td>17.02</td><td>0    </td><td>1    </td><td>4    </td><td>4    </td></tr>\n",
       "\t<tr><th scope=row>Datsun 710</th><td>22.8 </td><td>4    </td><td>108.0</td><td> 93  </td><td>3.85 </td><td>2.320</td><td>18.61</td><td>1    </td><td>1    </td><td>4    </td><td>1    </td></tr>\n",
       "\t<tr><th scope=row>Hornet 4 Drive</th><td>21.4 </td><td>6    </td><td>258.0</td><td>110  </td><td>3.08 </td><td>3.215</td><td>19.44</td><td>1    </td><td>0    </td><td>3    </td><td>1    </td></tr>\n",
       "\t<tr><th scope=row>Hornet Sportabout</th><td>18.7 </td><td>8    </td><td>360.0</td><td>175  </td><td>3.15 </td><td>3.440</td><td>17.02</td><td>0    </td><td>0    </td><td>3    </td><td>2    </td></tr>\n",
       "\t<tr><th scope=row>Valiant</th><td>18.1 </td><td>6    </td><td>225.0</td><td>105  </td><td>2.76 </td><td>3.460</td><td>20.22</td><td>1    </td><td>0    </td><td>3    </td><td>1    </td></tr>\n",
       "\t<tr><th scope=row>Duster 360</th><td>14.3 </td><td>8    </td><td>360.0</td><td>245  </td><td>3.21 </td><td>3.570</td><td>15.84</td><td>0    </td><td>0    </td><td>3    </td><td>4    </td></tr>\n",
       "\t<tr><th scope=row>Merc 240D</th><td>24.4 </td><td>4    </td><td>146.7</td><td> 62  </td><td>3.69 </td><td>3.190</td><td>20.00</td><td>1    </td><td>0    </td><td>4    </td><td>2    </td></tr>\n",
       "\t<tr><th scope=row>Merc 230</th><td>22.8 </td><td>4    </td><td>140.8</td><td> 95  </td><td>3.92 </td><td>3.150</td><td>22.90</td><td>1    </td><td>0    </td><td>4    </td><td>2    </td></tr>\n",
       "\t<tr><th scope=row>Merc 280</th><td>19.2 </td><td>6    </td><td>167.6</td><td>123  </td><td>3.92 </td><td>3.440</td><td>18.30</td><td>1    </td><td>0    </td><td>4    </td><td>4    </td></tr>\n",
       "</tbody>\n",
       "</table>\n",
       "</li>\n",
       "</ol>\n"
      ],
      "text/latex": [
       "\\begin{enumerate}\n",
       "\\item \\begin{enumerate*}\n",
       "\\item 1\n",
       "\\item 2\n",
       "\\item 3\n",
       "\\item 4\n",
       "\\item 5\n",
       "\\item 6\n",
       "\\item 7\n",
       "\\item 8\n",
       "\\item 9\n",
       "\\item 10\n",
       "\\end{enumerate*}\n",
       "\n",
       "\\item \\begin{tabular}{lll}\n",
       "\t 1 & 4 & 7\\\\\n",
       "\t 2 & 5 & 8\\\\\n",
       "\t 3 & 6 & 9\\\\\n",
       "\\end{tabular}\n",
       "\n",
       "\\item \\begin{tabular}{r|lllllllllll}\n",
       "  & mpg & cyl & disp & hp & drat & wt & qsec & vs & am & gear & carb\\\\\n",
       "\\hline\n",
       "\tMazda RX4 & 21.0  & 6     & 160.0 & 110   & 3.90  & 2.620 & 16.46 & 0     & 1     & 4     & 4    \\\\\n",
       "\tMazda RX4 Wag & 21.0  & 6     & 160.0 & 110   & 3.90  & 2.875 & 17.02 & 0     & 1     & 4     & 4    \\\\\n",
       "\tDatsun 710 & 22.8  & 4     & 108.0 &  93   & 3.85  & 2.320 & 18.61 & 1     & 1     & 4     & 1    \\\\\n",
       "\tHornet 4 Drive & 21.4  & 6     & 258.0 & 110   & 3.08  & 3.215 & 19.44 & 1     & 0     & 3     & 1    \\\\\n",
       "\tHornet Sportabout & 18.7  & 8     & 360.0 & 175   & 3.15  & 3.440 & 17.02 & 0     & 0     & 3     & 2    \\\\\n",
       "\tValiant & 18.1  & 6     & 225.0 & 105   & 2.76  & 3.460 & 20.22 & 1     & 0     & 3     & 1    \\\\\n",
       "\tDuster 360 & 14.3  & 8     & 360.0 & 245   & 3.21  & 3.570 & 15.84 & 0     & 0     & 3     & 4    \\\\\n",
       "\tMerc 240D & 24.4  & 4     & 146.7 &  62   & 3.69  & 3.190 & 20.00 & 1     & 0     & 4     & 2    \\\\\n",
       "\tMerc 230 & 22.8  & 4     & 140.8 &  95   & 3.92  & 3.150 & 22.90 & 1     & 0     & 4     & 2    \\\\\n",
       "\tMerc 280 & 19.2  & 6     & 167.6 & 123   & 3.92  & 3.440 & 18.30 & 1     & 0     & 4     & 4    \\\\\n",
       "\\end{tabular}\n",
       "\n",
       "\\end{enumerate}\n"
      ],
      "text/markdown": [
       "1. 1. 1\n",
       "2. 2\n",
       "3. 3\n",
       "4. 4\n",
       "5. 5\n",
       "6. 6\n",
       "7. 7\n",
       "8. 8\n",
       "9. 9\n",
       "10. 10\n",
       "\n",
       "\n",
       "\n",
       "2. \n",
       "| 1 | 4 | 7 | \n",
       "| 2 | 5 | 8 | \n",
       "| 3 | 6 | 9 | \n",
       "\n",
       "\n",
       "\n",
       "3. \n",
       "| <!--/--> | mpg | cyl | disp | hp | drat | wt | qsec | vs | am | gear | carb | \n",
       "|---|---|---|---|---|---|---|---|---|---|\n",
       "| Mazda RX4 | 21.0  | 6     | 160.0 | 110   | 3.90  | 2.620 | 16.46 | 0     | 1     | 4     | 4     | \n",
       "| Mazda RX4 Wag | 21.0  | 6     | 160.0 | 110   | 3.90  | 2.875 | 17.02 | 0     | 1     | 4     | 4     | \n",
       "| Datsun 710 | 22.8  | 4     | 108.0 |  93   | 3.85  | 2.320 | 18.61 | 1     | 1     | 4     | 1     | \n",
       "| Hornet 4 Drive | 21.4  | 6     | 258.0 | 110   | 3.08  | 3.215 | 19.44 | 1     | 0     | 3     | 1     | \n",
       "| Hornet Sportabout | 18.7  | 8     | 360.0 | 175   | 3.15  | 3.440 | 17.02 | 0     | 0     | 3     | 2     | \n",
       "| Valiant | 18.1  | 6     | 225.0 | 105   | 2.76  | 3.460 | 20.22 | 1     | 0     | 3     | 1     | \n",
       "| Duster 360 | 14.3  | 8     | 360.0 | 245   | 3.21  | 3.570 | 15.84 | 0     | 0     | 3     | 4     | \n",
       "| Merc 240D | 24.4  | 4     | 146.7 |  62   | 3.69  | 3.190 | 20.00 | 1     | 0     | 4     | 2     | \n",
       "| Merc 230 | 22.8  | 4     | 140.8 |  95   | 3.92  | 3.150 | 22.90 | 1     | 0     | 4     | 2     | \n",
       "| Merc 280 | 19.2  | 6     | 167.6 | 123   | 3.92  | 3.440 | 18.30 | 1     | 0     | 4     | 4     | \n",
       "\n",
       "\n",
       "\n",
       "\n",
       "\n"
      ],
      "text/plain": [
       "[[1]]\n",
       " [1]  1  2  3  4  5  6  7  8  9 10\n",
       "\n",
       "[[2]]\n",
       "     [,1] [,2] [,3]\n",
       "[1,]    1    4    7\n",
       "[2,]    2    5    8\n",
       "[3,]    3    6    9\n",
       "\n",
       "[[3]]\n",
       "                   mpg cyl  disp  hp drat    wt  qsec vs am gear carb\n",
       "Mazda RX4         21.0   6 160.0 110 3.90 2.620 16.46  0  1    4    4\n",
       "Mazda RX4 Wag     21.0   6 160.0 110 3.90 2.875 17.02  0  1    4    4\n",
       "Datsun 710        22.8   4 108.0  93 3.85 2.320 18.61  1  1    4    1\n",
       "Hornet 4 Drive    21.4   6 258.0 110 3.08 3.215 19.44  1  0    3    1\n",
       "Hornet Sportabout 18.7   8 360.0 175 3.15 3.440 17.02  0  0    3    2\n",
       "Valiant           18.1   6 225.0 105 2.76 3.460 20.22  1  0    3    1\n",
       "Duster 360        14.3   8 360.0 245 3.21 3.570 15.84  0  0    3    4\n",
       "Merc 240D         24.4   4 146.7  62 3.69 3.190 20.00  1  0    4    2\n",
       "Merc 230          22.8   4 140.8  95 3.92 3.150 22.90  1  0    4    2\n",
       "Merc 280          19.2   6 167.6 123 3.92 3.440 18.30  1  0    4    4\n"
      ]
     },
     "metadata": {},
     "output_type": "display_data"
    }
   ],
   "source": [
    "my_list"
   ]
  },
  {
   "cell_type": "markdown",
   "metadata": {},
   "source": [
    "### Creating a named list"
   ]
  },
  {
   "cell_type": "code",
   "execution_count": 92,
   "metadata": {},
   "outputs": [
    {
     "data": {
      "text/html": [
       "<dl>\n",
       "\t<dt>$vec</dt>\n",
       "\t\t<dd><ol class=list-inline>\n",
       "\t<li>1</li>\n",
       "\t<li>2</li>\n",
       "\t<li>3</li>\n",
       "\t<li>4</li>\n",
       "\t<li>5</li>\n",
       "\t<li>6</li>\n",
       "\t<li>7</li>\n",
       "\t<li>8</li>\n",
       "\t<li>9</li>\n",
       "\t<li>10</li>\n",
       "</ol>\n",
       "</dd>\n",
       "\t<dt>$mat</dt>\n",
       "\t\t<dd><table>\n",
       "<tbody>\n",
       "\t<tr><td>1</td><td>4</td><td>7</td></tr>\n",
       "\t<tr><td>2</td><td>5</td><td>8</td></tr>\n",
       "\t<tr><td>3</td><td>6</td><td>9</td></tr>\n",
       "</tbody>\n",
       "</table>\n",
       "</dd>\n",
       "\t<dt>$df</dt>\n",
       "\t\t<dd><table>\n",
       "<thead><tr><th></th><th scope=col>mpg</th><th scope=col>cyl</th><th scope=col>disp</th><th scope=col>hp</th><th scope=col>drat</th><th scope=col>wt</th><th scope=col>qsec</th><th scope=col>vs</th><th scope=col>am</th><th scope=col>gear</th><th scope=col>carb</th></tr></thead>\n",
       "<tbody>\n",
       "\t<tr><th scope=row>Mazda RX4</th><td>21.0 </td><td>6    </td><td>160.0</td><td>110  </td><td>3.90 </td><td>2.620</td><td>16.46</td><td>0    </td><td>1    </td><td>4    </td><td>4    </td></tr>\n",
       "\t<tr><th scope=row>Mazda RX4 Wag</th><td>21.0 </td><td>6    </td><td>160.0</td><td>110  </td><td>3.90 </td><td>2.875</td><td>17.02</td><td>0    </td><td>1    </td><td>4    </td><td>4    </td></tr>\n",
       "\t<tr><th scope=row>Datsun 710</th><td>22.8 </td><td>4    </td><td>108.0</td><td> 93  </td><td>3.85 </td><td>2.320</td><td>18.61</td><td>1    </td><td>1    </td><td>4    </td><td>1    </td></tr>\n",
       "\t<tr><th scope=row>Hornet 4 Drive</th><td>21.4 </td><td>6    </td><td>258.0</td><td>110  </td><td>3.08 </td><td>3.215</td><td>19.44</td><td>1    </td><td>0    </td><td>3    </td><td>1    </td></tr>\n",
       "\t<tr><th scope=row>Hornet Sportabout</th><td>18.7 </td><td>8    </td><td>360.0</td><td>175  </td><td>3.15 </td><td>3.440</td><td>17.02</td><td>0    </td><td>0    </td><td>3    </td><td>2    </td></tr>\n",
       "\t<tr><th scope=row>Valiant</th><td>18.1 </td><td>6    </td><td>225.0</td><td>105  </td><td>2.76 </td><td>3.460</td><td>20.22</td><td>1    </td><td>0    </td><td>3    </td><td>1    </td></tr>\n",
       "\t<tr><th scope=row>Duster 360</th><td>14.3 </td><td>8    </td><td>360.0</td><td>245  </td><td>3.21 </td><td>3.570</td><td>15.84</td><td>0    </td><td>0    </td><td>3    </td><td>4    </td></tr>\n",
       "\t<tr><th scope=row>Merc 240D</th><td>24.4 </td><td>4    </td><td>146.7</td><td> 62  </td><td>3.69 </td><td>3.190</td><td>20.00</td><td>1    </td><td>0    </td><td>4    </td><td>2    </td></tr>\n",
       "\t<tr><th scope=row>Merc 230</th><td>22.8 </td><td>4    </td><td>140.8</td><td> 95  </td><td>3.92 </td><td>3.150</td><td>22.90</td><td>1    </td><td>0    </td><td>4    </td><td>2    </td></tr>\n",
       "\t<tr><th scope=row>Merc 280</th><td>19.2 </td><td>6    </td><td>167.6</td><td>123  </td><td>3.92 </td><td>3.440</td><td>18.30</td><td>1    </td><td>0    </td><td>4    </td><td>4    </td></tr>\n",
       "</tbody>\n",
       "</table>\n",
       "</dd>\n",
       "</dl>\n"
      ],
      "text/latex": [
       "\\begin{description}\n",
       "\\item[\\$vec] \\begin{enumerate*}\n",
       "\\item 1\n",
       "\\item 2\n",
       "\\item 3\n",
       "\\item 4\n",
       "\\item 5\n",
       "\\item 6\n",
       "\\item 7\n",
       "\\item 8\n",
       "\\item 9\n",
       "\\item 10\n",
       "\\end{enumerate*}\n",
       "\n",
       "\\item[\\$mat] \\begin{tabular}{lll}\n",
       "\t 1 & 4 & 7\\\\\n",
       "\t 2 & 5 & 8\\\\\n",
       "\t 3 & 6 & 9\\\\\n",
       "\\end{tabular}\n",
       "\n",
       "\\item[\\$df] \\begin{tabular}{r|lllllllllll}\n",
       "  & mpg & cyl & disp & hp & drat & wt & qsec & vs & am & gear & carb\\\\\n",
       "\\hline\n",
       "\tMazda RX4 & 21.0  & 6     & 160.0 & 110   & 3.90  & 2.620 & 16.46 & 0     & 1     & 4     & 4    \\\\\n",
       "\tMazda RX4 Wag & 21.0  & 6     & 160.0 & 110   & 3.90  & 2.875 & 17.02 & 0     & 1     & 4     & 4    \\\\\n",
       "\tDatsun 710 & 22.8  & 4     & 108.0 &  93   & 3.85  & 2.320 & 18.61 & 1     & 1     & 4     & 1    \\\\\n",
       "\tHornet 4 Drive & 21.4  & 6     & 258.0 & 110   & 3.08  & 3.215 & 19.44 & 1     & 0     & 3     & 1    \\\\\n",
       "\tHornet Sportabout & 18.7  & 8     & 360.0 & 175   & 3.15  & 3.440 & 17.02 & 0     & 0     & 3     & 2    \\\\\n",
       "\tValiant & 18.1  & 6     & 225.0 & 105   & 2.76  & 3.460 & 20.22 & 1     & 0     & 3     & 1    \\\\\n",
       "\tDuster 360 & 14.3  & 8     & 360.0 & 245   & 3.21  & 3.570 & 15.84 & 0     & 0     & 3     & 4    \\\\\n",
       "\tMerc 240D & 24.4  & 4     & 146.7 &  62   & 3.69  & 3.190 & 20.00 & 1     & 0     & 4     & 2    \\\\\n",
       "\tMerc 230 & 22.8  & 4     & 140.8 &  95   & 3.92  & 3.150 & 22.90 & 1     & 0     & 4     & 2    \\\\\n",
       "\tMerc 280 & 19.2  & 6     & 167.6 & 123   & 3.92  & 3.440 & 18.30 & 1     & 0     & 4     & 4    \\\\\n",
       "\\end{tabular}\n",
       "\n",
       "\\end{description}\n"
      ],
      "text/markdown": [
       "$vec\n",
       ":   1. 1\n",
       "2. 2\n",
       "3. 3\n",
       "4. 4\n",
       "5. 5\n",
       "6. 6\n",
       "7. 7\n",
       "8. 8\n",
       "9. 9\n",
       "10. 10\n",
       "\n",
       "\n",
       "\n",
       "$mat\n",
       ":   \n",
       "| 1 | 4 | 7 | \n",
       "| 2 | 5 | 8 | \n",
       "| 3 | 6 | 9 | \n",
       "\n",
       "\n",
       "\n",
       "$df\n",
       ":   \n",
       "| <!--/--> | mpg | cyl | disp | hp | drat | wt | qsec | vs | am | gear | carb | \n",
       "|---|---|---|---|---|---|---|---|---|---|\n",
       "| Mazda RX4 | 21.0  | 6     | 160.0 | 110   | 3.90  | 2.620 | 16.46 | 0     | 1     | 4     | 4     | \n",
       "| Mazda RX4 Wag | 21.0  | 6     | 160.0 | 110   | 3.90  | 2.875 | 17.02 | 0     | 1     | 4     | 4     | \n",
       "| Datsun 710 | 22.8  | 4     | 108.0 |  93   | 3.85  | 2.320 | 18.61 | 1     | 1     | 4     | 1     | \n",
       "| Hornet 4 Drive | 21.4  | 6     | 258.0 | 110   | 3.08  | 3.215 | 19.44 | 1     | 0     | 3     | 1     | \n",
       "| Hornet Sportabout | 18.7  | 8     | 360.0 | 175   | 3.15  | 3.440 | 17.02 | 0     | 0     | 3     | 2     | \n",
       "| Valiant | 18.1  | 6     | 225.0 | 105   | 2.76  | 3.460 | 20.22 | 1     | 0     | 3     | 1     | \n",
       "| Duster 360 | 14.3  | 8     | 360.0 | 245   | 3.21  | 3.570 | 15.84 | 0     | 0     | 3     | 4     | \n",
       "| Merc 240D | 24.4  | 4     | 146.7 |  62   | 3.69  | 3.190 | 20.00 | 1     | 0     | 4     | 2     | \n",
       "| Merc 230 | 22.8  | 4     | 140.8 |  95   | 3.92  | 3.150 | 22.90 | 1     | 0     | 4     | 2     | \n",
       "| Merc 280 | 19.2  | 6     | 167.6 | 123   | 3.92  | 3.440 | 18.30 | 1     | 0     | 4     | 4     | \n",
       "\n",
       "\n",
       "\n",
       "\n",
       "\n"
      ],
      "text/plain": [
       "$vec\n",
       " [1]  1  2  3  4  5  6  7  8  9 10\n",
       "\n",
       "$mat\n",
       "     [,1] [,2] [,3]\n",
       "[1,]    1    4    7\n",
       "[2,]    2    5    8\n",
       "[3,]    3    6    9\n",
       "\n",
       "$df\n",
       "                   mpg cyl  disp  hp drat    wt  qsec vs am gear carb\n",
       "Mazda RX4         21.0   6 160.0 110 3.90 2.620 16.46  0  1    4    4\n",
       "Mazda RX4 Wag     21.0   6 160.0 110 3.90 2.875 17.02  0  1    4    4\n",
       "Datsun 710        22.8   4 108.0  93 3.85 2.320 18.61  1  1    4    1\n",
       "Hornet 4 Drive    21.4   6 258.0 110 3.08 3.215 19.44  1  0    3    1\n",
       "Hornet Sportabout 18.7   8 360.0 175 3.15 3.440 17.02  0  0    3    2\n",
       "Valiant           18.1   6 225.0 105 2.76 3.460 20.22  1  0    3    1\n",
       "Duster 360        14.3   8 360.0 245 3.21 3.570 15.84  0  0    3    4\n",
       "Merc 240D         24.4   4 146.7  62 3.69 3.190 20.00  1  0    4    2\n",
       "Merc 230          22.8   4 140.8  95 3.92 3.150 22.90  1  0    4    2\n",
       "Merc 280          19.2   6 167.6 123 3.92 3.440 18.30  1  0    4    4\n"
      ]
     },
     "metadata": {},
     "output_type": "display_data"
    }
   ],
   "source": [
    "# Vector with numerics from 1 up to 10\n",
    "my_vector <- 1:10 \n",
    "\n",
    "# Matrix with numerics from 1 up to 9\n",
    "my_matrix <- matrix(1:9, ncol = 3)\n",
    "\n",
    "# First 10 elements of the built-in data frame mtcars\n",
    "my_df <- mtcars[1:10,]\n",
    "\n",
    "# Adapt list() call to give the components names\n",
    "my_list <- list(vec=my_vector, mat=my_matrix, df=my_df)\n",
    "\n",
    "# Print out my_list\n",
    "my_list"
   ]
  },
  {
   "cell_type": "markdown",
   "metadata": {},
   "source": [
    "### Creating a named list (2)"
   ]
  },
  {
   "cell_type": "code",
   "execution_count": 94,
   "metadata": {},
   "outputs": [
    {
     "ename": "ERROR",
     "evalue": "Error in eval(expr, envir, enclos): object 'mov' not found\n",
     "output_type": "error",
     "traceback": [
      "Error in eval(expr, envir, enclos): object 'mov' not found\nTraceback:\n"
     ]
    }
   ],
   "source": [
    "# The variables mov, act and rev are available\n",
    "\n",
    "# Finish the code to build shining_list\n",
    "shining_list <- list(moviename = mov, actors = act, reviews = rev)"
   ]
  },
  {
   "cell_type": "markdown",
   "metadata": {},
   "source": [
    "### Selecting elements from a list"
   ]
  },
  {
   "cell_type": "code",
   "execution_count": null,
   "metadata": {},
   "outputs": [],
   "source": [
    "# shining_list is already pre-loaded in the workspace\n",
    "\n",
    "# Print out the vector representing the actors\n",
    "shining_list$actors\n",
    "\n",
    "# Print the second element of the vector representing the actors\n",
    "shining_list[[2]][2]"
   ]
  },
  {
   "cell_type": "markdown",
   "metadata": {},
   "source": [
    "### Adding more movie information to the list"
   ]
  },
  {
   "cell_type": "code",
   "execution_count": null,
   "metadata": {},
   "outputs": [],
   "source": [
    "# shining_list, the list containing movie name, actors and reviews, is pre-loaded in the workspace\n",
    "\n",
    "# We forgot something; add the year to shining_list\n",
    "shining_list_full <- c(shining_list, year = 1980)\n",
    "\n",
    "# Have a look at shining_list_full\n",
    "str(shining_list_full)"
   ]
  },
  {
   "cell_type": "markdown",
   "metadata": {},
   "source": [
    "```txt\n",
    "List of 4\n",
    " $ moviename: chr \"The Shining\"\n",
    " $ actors   : chr [1:5] \"Jack Nicholson\" \"Shelley Duvall\" \"Danny Lloyd\" \"Scatman Crothers\" ...\n",
    " $ reviews  :'data.frame':\t3 obs. of  3 variables:\n",
    "  ..$ scores  : num [1:3] 4.5 4 5\n",
    "  ..$ sources : Factor w/ 3 levels \"IMDb1\",\"IMDb2\",..: 1 2 3\n",
    "  ..$ comments: Factor w/ 3 levels \"A masterpiece of psychological horror\",..: 3 2 1\n",
    " $ year     : num 1980\n",
    "```"
   ]
  },
  {
   "cell_type": "code",
   "execution_count": null,
   "metadata": {},
   "outputs": [],
   "source": []
  }
 ],
 "metadata": {
  "kernelspec": {
   "display_name": "R",
   "language": "R",
   "name": "ir"
  },
  "language_info": {
   "codemirror_mode": "r",
   "file_extension": ".r",
   "mimetype": "text/x-r-source",
   "name": "R",
   "pygments_lexer": "r",
   "version": "3.5.1"
  }
 },
 "nbformat": 4,
 "nbformat_minor": 2
}
